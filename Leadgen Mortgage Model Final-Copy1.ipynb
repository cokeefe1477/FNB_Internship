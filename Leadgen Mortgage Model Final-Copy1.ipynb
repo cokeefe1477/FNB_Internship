{
 "cells": [
  {
   "cell_type": "markdown",
   "metadata": {},
   "source": [
    "# Leadgen Mortgage Final Model"
   ]
  },
  {
   "cell_type": "code",
   "execution_count": 1,
   "metadata": {},
   "outputs": [],
   "source": [
    "import pandas as pd\n",
    "import numpy as np\n",
    "\n",
    "import pyodbc\n",
    "# from fnbbase.connection import * \n",
    "# from pandasql import sqldf\n",
    "\n",
    "import seaborn as sns\n",
    "import matplotlib.pyplot as plt\n",
    "%matplotlib inline\n",
    "pysqldf = lambda q: sqldf(q, globals())\n",
    "from sklearn import metrics\n",
    "\n",
    "import statsmodels.api as sm\n",
    "from statsmodels.discrete.discrete_model import Logit\n",
    "import scipy\n",
    "\n",
    "from sklearn.linear_model import LogisticRegression\n",
    "from sklearn import preprocessing\n",
    "from sklearn.preprocessing import StandardScaler\n",
    "from sklearn.model_selection import train_test_split\n",
    "from sklearn.model_selection import ShuffleSplit, GridSearchCV, StratifiedKFold, StratifiedShuffleSplit\n",
    "\n",
    "from imblearn.over_sampling import SMOTE\n",
    "from imblearn.under_sampling import RandomUnderSampler"
   ]
  },
  {
   "cell_type": "code",
   "execution_count": 2,
   "metadata": {},
   "outputs": [
    {
     "ename": "SyntaxError",
     "evalue": "invalid syntax (<ipython-input-2-adfb5d4e2510>, line 2)",
     "output_type": "error",
     "traceback": [
      "\u001b[1;36m  File \u001b[1;32m\"<ipython-input-2-adfb5d4e2510>\"\u001b[1;36m, line \u001b[1;32m2\u001b[0m\n\u001b[1;33m    mtgDemo = pd.read_csv(, index_col = \"hkey\")\u001b[0m\n\u001b[1;37m                          ^\u001b[0m\n\u001b[1;31mSyntaxError\u001b[0m\u001b[1;31m:\u001b[0m invalid syntax\n"
     ]
    }
   ],
   "source": [
    "# Data removed for privacy reasons\n",
    "mtgDemo = pd.read_csv(, index_col = \"hkey\")\n",
    "mtgDemoMinusOnly = pd.read_csv(, index_col = \"hkey\")\n",
    "mtgDemo.head()"
   ]
  },
  {
   "cell_type": "markdown",
   "metadata": {},
   "source": [
    "## Logistic Regression Dummy Variables"
   ]
  },
  {
   "cell_type": "markdown",
   "metadata": {},
   "source": [
    "Since there are more variables to keep than to exclude, we reversed engineered our variable assignment by dropping our categorical variables first. Then we dummied the categories out, and added them back into the model. We also excluded the dummy variables that contained NA or LEVEL U for espscore which is also NA."
   ]
  },
  {
   "cell_type": "code",
   "execution_count": null,
   "metadata": {},
   "outputs": [],
   "source": [
    "# Split data into explanatory and response variables\n",
    "Y_all = mtgDemo[\"has_mtg\"]\n",
    "X_all = mtgDemo.drop(columns = [])\n",
    "dummies1 = pd.get_dummies(mtgDemo[[]])\n",
    "X_all = pd.concat([X_all, dummies1], axis = 1)\n",
    "X_all = X_all.drop(columns = [])\n",
    "\n",
    "Y_notOnly = mtgDemoMinusOnly[\"has_mtg\"]\n",
    "X_notOnly = mtgDemoMinusOnly.drop(columns = [])\n",
    "dummies2 = pd.get_dummies(mtgDemoMinusOnly[[]])\n",
    "X_notOnly = pd.concat([X_notOnly, dummies2], axis = 1)\n",
    "X_notOnly = X_notOnly.drop(columns = [])"
   ]
  },
  {
   "cell_type": "code",
   "execution_count": null,
   "metadata": {},
   "outputs": [],
   "source": [
    "mtgDemo[\"Total Non-mortgage Accounts\"] = mtgDemo[] + mtgDemo[] + mtgDemo[] + mtgDemo[] + mtgDemo[] + mtgDemo[] + mtgDemo[] + mtgDemo[] + mtgDemo[] + mtgDemo[] + mtgDemo[] + mtgDemo[] + mtgDemo[] + mtgDemo[] + mtgDemo[] + mtgDemo[] + mtgDemo[] + mtgDemo[] + mtgDemo[]\n",
    "mtgDemoMinusOnly[\"Total Non-mortgage Accounts\"] = mtgDemoMinusOnly[] + mtgDemoMinusOnly[] + mtgDemoMinusOnly[] + mtgDemoMinusOnly[] + mtgDemoMinusOnly[] + mtgDemoMinusOnly[] + mtgDemoMinusOnly[] + mtgDemoMinusOnly[] + mtgDemoMinusOnly[] + mtgDemoMinusOnly[] + mtgDemoMinusOnly[] + mtgDemoMinusOnly[] + mtgDemoMinusOnly[] + mtgDemoMinusOnly[] + mtgDemoMinusOnly[] + mtgDemoMinusOnly[] + mtgDemoMinusOnly[] + mtgDemoMinusOnly[] + mtgDemoMinusOnly[]"
   ]
  },
  {
   "cell_type": "markdown",
   "metadata": {},
   "source": [
    "## Standardization"
   ]
  },
  {
   "cell_type": "markdown",
   "metadata": {},
   "source": [
    "We decided to also standardize the dummy variables here, shouldn't theoretically make any difference to the final model."
   ]
  },
  {
   "cell_type": "code",
   "execution_count": null,
   "metadata": {},
   "outputs": [],
   "source": [
    "# Standardize features\n",
    "scaler = StandardScaler()\n",
    "\n",
    "X_all_std = scaler.fit_transform(X_all)\n",
    "X_notOnly_std = scaler.fit_transform(X_notOnly)"
   ]
  },
  {
   "cell_type": "code",
   "execution_count": null,
   "metadata": {},
   "outputs": [],
   "source": [
    "X_all_std = pd.DataFrame(X_all_std, columns = X_all.columns)\n",
    "X_notOnly_std = pd.DataFrame(X_notOnly_std, columns = X_notOnly.columns)"
   ]
  },
  {
   "cell_type": "markdown",
   "metadata": {},
   "source": [
    "It turns out the standard scaler function resets the index to the row numbers. Here we fix it back to the original hkey index using Y"
   ]
  },
  {
   "cell_type": "code",
   "execution_count": null,
   "metadata": {},
   "outputs": [],
   "source": [
    "# Reset the index for the X data\n",
    "y_all_index = Y_all.index\n",
    "X_all_std = X_all_std.set_index(y_all_index)\n",
    "\n",
    "y_notOnly_index = Y_notOnly.index\n",
    "X_notOnly_std = X_notOnly_std.set_index(y_notOnly_index)"
   ]
  },
  {
   "cell_type": "code",
   "execution_count": null,
   "metadata": {},
   "outputs": [],
   "source": [
    "# Adding a column of 1 for the intercepts\n",
    "X_all_std = sm.add_constant(X_all_std)\n",
    "X_notOnly_std = sm.add_constant(X_notOnly_std)"
   ]
  },
  {
   "cell_type": "markdown",
   "metadata": {},
   "source": [
    "## Train, Validate, Test Split"
   ]
  },
  {
   "cell_type": "code",
   "execution_count": null,
   "metadata": {},
   "outputs": [],
   "source": [
    "# 80/20 train/test split then a 80/20 split on train to get train/validate\n",
    "\n",
    "X_all_pretrain, X_all_test, Y_all_pretrain, Y_all_test = train_test_split(X_all_std, Y_all, test_size = 0.3, shuffle = True, random_state = 1)\n",
    "X_all_train, X_all_validate, Y_all_train, Y_all_validate = train_test_split(X_all_pretrain, Y_all_pretrain, test_size = 0.3, shuffle = True, random_state = 1)\n",
    "\n",
    "X_notOnly_pretrain, X_notOnly_test, Y_notOnly_pretrain, Y_notOnly_test = train_test_split(X_notOnly_std, Y_notOnly, test_size = 0.3, shuffle = True, random_state = 1)\n",
    "X_notOnly_train, X_notOnly_validate, Y_notOnly_train, Y_notOnly_validate = train_test_split(X_notOnly_pretrain, Y_notOnly_pretrain, test_size = 0.3, shuffle = True, random_state = 1)\n",
    "\n",
    "all_cols = X_all_std.columns\n",
    "notOnly_cols = X_notOnly_std.columns"
   ]
  },
  {
   "cell_type": "code",
   "execution_count": null,
   "metadata": {},
   "outputs": [],
   "source": [
    "# Checking to make sure that the hkey remained the index after splitting\n",
    "print(X_all_pretrain.index)\n",
    "print(X_notOnly_pretrain.index)"
   ]
  },
  {
   "cell_type": "markdown",
   "metadata": {},
   "source": [
    "## Balancing Training Data"
   ]
  },
  {
   "cell_type": "markdown",
   "metadata": {},
   "source": [
    "#### Undersampling"
   ]
  },
  {
   "cell_type": "code",
   "execution_count": null,
   "metadata": {},
   "outputs": [],
   "source": [
    "# Use a random under sampling method to balance our data\n",
    "us = RandomUnderSampler(random_state = 0)"
   ]
  },
  {
   "cell_type": "code",
   "execution_count": 3,
   "metadata": {},
   "outputs": [
    {
     "ename": "NameError",
     "evalue": "name 'us' is not defined",
     "output_type": "error",
     "traceback": [
      "\u001b[1;31m---------------------------------------------------------------------------\u001b[0m",
      "\u001b[1;31mNameError\u001b[0m                                 Traceback (most recent call last)",
      "\u001b[1;32m<ipython-input-3-bf9f77a90b3b>\u001b[0m in \u001b[0;36m<module>\u001b[1;34m\u001b[0m\n\u001b[1;32m----> 1\u001b[1;33m \u001b[0mus_data_X_all_train\u001b[0m\u001b[1;33m,\u001b[0m \u001b[0mus_data_Y_all_train\u001b[0m \u001b[1;33m=\u001b[0m \u001b[0mus\u001b[0m\u001b[1;33m.\u001b[0m\u001b[0mfit_resample\u001b[0m\u001b[1;33m(\u001b[0m\u001b[0mX_all_train\u001b[0m\u001b[1;33m,\u001b[0m \u001b[0mY_all_train\u001b[0m\u001b[1;33m)\u001b[0m\u001b[1;33m\u001b[0m\u001b[1;33m\u001b[0m\u001b[0m\n\u001b[0m\u001b[0;32m      2\u001b[0m \u001b[0mprint\u001b[0m\u001b[1;33m(\u001b[0m\u001b[0mus_data_X_all_train\u001b[0m\u001b[1;33m.\u001b[0m\u001b[0mshape\u001b[0m\u001b[1;33m)\u001b[0m\u001b[1;33m\u001b[0m\u001b[1;33m\u001b[0m\u001b[0m\n\u001b[0;32m      3\u001b[0m \u001b[0mus_data_X_all_train\u001b[0m \u001b[1;33m=\u001b[0m \u001b[0mpd\u001b[0m\u001b[1;33m.\u001b[0m\u001b[0mDataFrame\u001b[0m\u001b[1;33m(\u001b[0m\u001b[0mdata\u001b[0m \u001b[1;33m=\u001b[0m \u001b[0mus_data_X_all_train\u001b[0m\u001b[1;33m,\u001b[0m \u001b[0mcolumns\u001b[0m \u001b[1;33m=\u001b[0m \u001b[0mall_cols\u001b[0m\u001b[1;33m)\u001b[0m\u001b[1;33m\u001b[0m\u001b[1;33m\u001b[0m\u001b[0m\n\u001b[0;32m      4\u001b[0m \u001b[0mus_data_Y_all_train\u001b[0m \u001b[1;33m=\u001b[0m \u001b[0mpd\u001b[0m\u001b[1;33m.\u001b[0m\u001b[0mDataFrame\u001b[0m\u001b[1;33m(\u001b[0m\u001b[0mdata\u001b[0m \u001b[1;33m=\u001b[0m \u001b[0mus_data_Y_all_train\u001b[0m\u001b[1;33m)\u001b[0m\u001b[1;33m\u001b[0m\u001b[1;33m\u001b[0m\u001b[0m\n\u001b[0;32m      5\u001b[0m \u001b[0mprint\u001b[0m\u001b[1;33m(\u001b[0m\u001b[0mus_data_X_all_train\u001b[0m\u001b[1;33m.\u001b[0m\u001b[0mshape\u001b[0m\u001b[1;33m)\u001b[0m\u001b[1;33m\u001b[0m\u001b[1;33m\u001b[0m\u001b[0m\n",
      "\u001b[1;31mNameError\u001b[0m: name 'us' is not defined"
     ]
    }
   ],
   "source": [
    "us_data_X_all_train, us_data_Y_all_train = us.fit_resample(X_all_train, Y_all_train)\n",
    "print(us_data_X_all_train.shape)\n",
    "us_data_X_all_train = pd.DataFrame(data = us_data_X_all_train, columns = all_cols)\n",
    "us_data_Y_all_train = pd.DataFrame(data = us_data_Y_all_train)\n",
    "print(us_data_X_all_train.shape)\n"
   ]
  },
  {
   "cell_type": "code",
   "execution_count": null,
   "metadata": {},
   "outputs": [],
   "source": [
    "print(\"Length of Undersampled Data:\", len(us_data_X_all_train))\n",
    "print(\"Number without a mortgage in Undersampled Data:\", len(us_data_Y_all_train[us_data_Y_all_train[\"has_mtg\"]==0]))\n",
    "print(\"Number with a mortgage in Undersampled Data:\", len(us_data_Y_all_train[us_data_Y_all_train[\"has_mtg\"]==1]))\n",
    "print(\"Proportion without a mortgage in Undersampled Data:\", len(us_data_Y_all_train[us_data_Y_all_train[\"has_mtg\"]==0])/len(us_data_X_all_train))\n",
    "print(\"Proportion with a mortgage in Undersampled Data:\", len(us_data_Y_all_train[us_data_Y_all_train[\"has_mtg\"]==1])/len(us_data_X_all_train))"
   ]
  },
  {
   "cell_type": "code",
   "execution_count": 4,
   "metadata": {},
   "outputs": [
    {
     "ename": "NameError",
     "evalue": "name 'us' is not defined",
     "output_type": "error",
     "traceback": [
      "\u001b[1;31m---------------------------------------------------------------------------\u001b[0m",
      "\u001b[1;31mNameError\u001b[0m                                 Traceback (most recent call last)",
      "\u001b[1;32m<ipython-input-4-8180c1c8b9f9>\u001b[0m in \u001b[0;36m<module>\u001b[1;34m\u001b[0m\n\u001b[1;32m----> 1\u001b[1;33m \u001b[0mus_data_X_notOnly_train\u001b[0m\u001b[1;33m,\u001b[0m \u001b[0mus_data_Y_notOnly_train\u001b[0m \u001b[1;33m=\u001b[0m \u001b[0mus\u001b[0m\u001b[1;33m.\u001b[0m\u001b[0mfit_resample\u001b[0m\u001b[1;33m(\u001b[0m\u001b[0mX_notOnly_train\u001b[0m\u001b[1;33m,\u001b[0m \u001b[0mY_notOnly_train\u001b[0m\u001b[1;33m)\u001b[0m\u001b[1;33m\u001b[0m\u001b[1;33m\u001b[0m\u001b[0m\n\u001b[0m\u001b[0;32m      2\u001b[0m \u001b[0mus_data_X_notOnly_train\u001b[0m \u001b[1;33m=\u001b[0m \u001b[0mpd\u001b[0m\u001b[1;33m.\u001b[0m\u001b[0mDataFrame\u001b[0m\u001b[1;33m(\u001b[0m\u001b[0mdata\u001b[0m \u001b[1;33m=\u001b[0m \u001b[0mus_data_X_notOnly_train\u001b[0m\u001b[1;33m,\u001b[0m \u001b[0mcolumns\u001b[0m \u001b[1;33m=\u001b[0m \u001b[0mnotOnly_cols\u001b[0m\u001b[1;33m)\u001b[0m\u001b[1;33m\u001b[0m\u001b[1;33m\u001b[0m\u001b[0m\n\u001b[0;32m      3\u001b[0m \u001b[0mus_data_Y_notOnly_train\u001b[0m \u001b[1;33m=\u001b[0m \u001b[0mpd\u001b[0m\u001b[1;33m.\u001b[0m\u001b[0mDataFrame\u001b[0m\u001b[1;33m(\u001b[0m\u001b[0mdata\u001b[0m \u001b[1;33m=\u001b[0m \u001b[0mus_data_Y_notOnly_train\u001b[0m\u001b[1;33m)\u001b[0m\u001b[1;33m\u001b[0m\u001b[1;33m\u001b[0m\u001b[0m\n",
      "\u001b[1;31mNameError\u001b[0m: name 'us' is not defined"
     ]
    }
   ],
   "source": [
    "us_data_X_notOnly_train, us_data_Y_notOnly_train = us.fit_resample(X_notOnly_train, Y_notOnly_train)\n",
    "us_data_X_notOnly_train = pd.DataFrame(data = us_data_X_notOnly_train, columns = notOnly_cols)\n",
    "us_data_Y_notOnly_train = pd.DataFrame(data = us_data_Y_notOnly_train)"
   ]
  },
  {
   "cell_type": "code",
   "execution_count": 5,
   "metadata": {},
   "outputs": [
    {
     "ename": "NameError",
     "evalue": "name 'us_data_X_notOnly_train' is not defined",
     "output_type": "error",
     "traceback": [
      "\u001b[1;31m---------------------------------------------------------------------------\u001b[0m",
      "\u001b[1;31mNameError\u001b[0m                                 Traceback (most recent call last)",
      "\u001b[1;32m<ipython-input-5-5515fbe033e5>\u001b[0m in \u001b[0;36m<module>\u001b[1;34m\u001b[0m\n\u001b[1;32m----> 1\u001b[1;33m \u001b[0mprint\u001b[0m\u001b[1;33m(\u001b[0m\u001b[1;34m\"Length of Undersampled Data:\"\u001b[0m\u001b[1;33m,\u001b[0m \u001b[0mlen\u001b[0m\u001b[1;33m(\u001b[0m\u001b[0mus_data_X_notOnly_train\u001b[0m\u001b[1;33m)\u001b[0m\u001b[1;33m)\u001b[0m\u001b[1;33m\u001b[0m\u001b[1;33m\u001b[0m\u001b[0m\n\u001b[0m\u001b[0;32m      2\u001b[0m \u001b[0mprint\u001b[0m\u001b[1;33m(\u001b[0m\u001b[1;34m\"Number without a mortgage in Undersampled Data:\"\u001b[0m\u001b[1;33m,\u001b[0m \u001b[0mlen\u001b[0m\u001b[1;33m(\u001b[0m\u001b[0mus_data_Y_notOnly_train\u001b[0m\u001b[1;33m[\u001b[0m\u001b[0mus_data_Y_notOnly_train\u001b[0m\u001b[1;33m[\u001b[0m\u001b[1;34m\"has_mtg\"\u001b[0m\u001b[1;33m]\u001b[0m\u001b[1;33m==\u001b[0m\u001b[1;36m0\u001b[0m\u001b[1;33m]\u001b[0m\u001b[1;33m)\u001b[0m\u001b[1;33m)\u001b[0m\u001b[1;33m\u001b[0m\u001b[1;33m\u001b[0m\u001b[0m\n\u001b[0;32m      3\u001b[0m \u001b[0mprint\u001b[0m\u001b[1;33m(\u001b[0m\u001b[1;34m\"Number with a mortgage in Undersampled Data:\"\u001b[0m\u001b[1;33m,\u001b[0m \u001b[0mlen\u001b[0m\u001b[1;33m(\u001b[0m\u001b[0mus_data_Y_notOnly_train\u001b[0m\u001b[1;33m[\u001b[0m\u001b[0mus_data_Y_notOnly_train\u001b[0m\u001b[1;33m[\u001b[0m\u001b[1;34m\"has_mtg\"\u001b[0m\u001b[1;33m]\u001b[0m\u001b[1;33m==\u001b[0m\u001b[1;36m1\u001b[0m\u001b[1;33m]\u001b[0m\u001b[1;33m)\u001b[0m\u001b[1;33m)\u001b[0m\u001b[1;33m\u001b[0m\u001b[1;33m\u001b[0m\u001b[0m\n\u001b[0;32m      4\u001b[0m \u001b[0mprint\u001b[0m\u001b[1;33m(\u001b[0m\u001b[1;34m\"Proportion without a mortgage in Undersampled Data:\"\u001b[0m\u001b[1;33m,\u001b[0m \u001b[0mlen\u001b[0m\u001b[1;33m(\u001b[0m\u001b[0mus_data_Y_notOnly_train\u001b[0m\u001b[1;33m[\u001b[0m\u001b[0mus_data_Y_notOnly_train\u001b[0m\u001b[1;33m[\u001b[0m\u001b[1;34m\"has_mtg\"\u001b[0m\u001b[1;33m]\u001b[0m\u001b[1;33m==\u001b[0m\u001b[1;36m0\u001b[0m\u001b[1;33m]\u001b[0m\u001b[1;33m)\u001b[0m\u001b[1;33m/\u001b[0m\u001b[0mlen\u001b[0m\u001b[1;33m(\u001b[0m\u001b[0mus_data_X_notOnly_train\u001b[0m\u001b[1;33m)\u001b[0m\u001b[1;33m)\u001b[0m\u001b[1;33m\u001b[0m\u001b[1;33m\u001b[0m\u001b[0m\n\u001b[0;32m      5\u001b[0m \u001b[0mprint\u001b[0m\u001b[1;33m(\u001b[0m\u001b[1;34m\"Proportion with a mortgage in Undersampled Data:\"\u001b[0m\u001b[1;33m,\u001b[0m \u001b[0mlen\u001b[0m\u001b[1;33m(\u001b[0m\u001b[0mus_data_Y_notOnly_train\u001b[0m\u001b[1;33m[\u001b[0m\u001b[0mus_data_Y_notOnly_train\u001b[0m\u001b[1;33m[\u001b[0m\u001b[1;34m\"has_mtg\"\u001b[0m\u001b[1;33m]\u001b[0m\u001b[1;33m==\u001b[0m\u001b[1;36m1\u001b[0m\u001b[1;33m]\u001b[0m\u001b[1;33m)\u001b[0m\u001b[1;33m/\u001b[0m\u001b[0mlen\u001b[0m\u001b[1;33m(\u001b[0m\u001b[0mus_data_X_notOnly_train\u001b[0m\u001b[1;33m)\u001b[0m\u001b[1;33m)\u001b[0m\u001b[1;33m\u001b[0m\u001b[1;33m\u001b[0m\u001b[0m\n",
      "\u001b[1;31mNameError\u001b[0m: name 'us_data_X_notOnly_train' is not defined"
     ]
    }
   ],
   "source": [
    "print(\"Length of Undersampled Data:\", len(us_data_X_notOnly_train))\n",
    "print(\"Number without a mortgage in Undersampled Data:\", len(us_data_Y_notOnly_train[us_data_Y_notOnly_train[\"has_mtg\"]==0]))\n",
    "print(\"Number with a mortgage in Undersampled Data:\", len(us_data_Y_notOnly_train[us_data_Y_notOnly_train[\"has_mtg\"]==1]))\n",
    "print(\"Proportion without a mortgage in Undersampled Data:\", len(us_data_Y_notOnly_train[us_data_Y_notOnly_train[\"has_mtg\"]==0])/len(us_data_X_notOnly_train))\n",
    "print(\"Proportion with a mortgage in Undersampled Data:\", len(us_data_Y_notOnly_train[us_data_Y_notOnly_train[\"has_mtg\"]==1])/len(us_data_X_notOnly_train))"
   ]
  },
  {
   "cell_type": "markdown",
   "metadata": {},
   "source": [
    "## Model Validation"
   ]
  },
  {
   "cell_type": "markdown",
   "metadata": {},
   "source": [
    "The following steps are performed 4 times\n",
    "1. CV over train into train / val for 10 folds\n",
    "- Run model on each train / val set\n",
    "- Record Error Metrics\n",
    "2. Select Best Model based on Error Metric\n",
    "- Record Prediction Scores\n",
    "3. Predict on test data and see if metrics are in the same range\n",
    "4. Decile non-mortgage customers"
   ]
  },
  {
   "cell_type": "markdown",
   "metadata": {},
   "source": [
    "#### Undersampling - All Mortgage Customers"
   ]
  },
  {
   "cell_type": "code",
   "execution_count": 6,
   "metadata": {},
   "outputs": [
    {
     "ename": "NameError",
     "evalue": "name 'us_data_X_all_train' is not defined",
     "output_type": "error",
     "traceback": [
      "\u001b[1;31m---------------------------------------------------------------------------\u001b[0m",
      "\u001b[1;31mNameError\u001b[0m                                 Traceback (most recent call last)",
      "\u001b[1;32m<ipython-input-6-90dc1b7dc845>\u001b[0m in \u001b[0;36m<module>\u001b[1;34m\u001b[0m\n\u001b[0;32m     12\u001b[0m \u001b[0msumlst_all\u001b[0m \u001b[1;33m=\u001b[0m \u001b[1;33m[\u001b[0m\u001b[1;33m]\u001b[0m \u001b[1;31m# Saving the summary list so we can get the pvalues\u001b[0m\u001b[1;33m\u001b[0m\u001b[1;33m\u001b[0m\u001b[0m\n\u001b[0;32m     13\u001b[0m \u001b[1;33m\u001b[0m\u001b[0m\n\u001b[1;32m---> 14\u001b[1;33m \u001b[1;32mfor\u001b[0m \u001b[0mtest_ind\u001b[0m\u001b[1;33m,\u001b[0m\u001b[0mval_ind\u001b[0m \u001b[1;32min\u001b[0m \u001b[0msfk\u001b[0m\u001b[1;33m.\u001b[0m\u001b[0msplit\u001b[0m\u001b[1;33m(\u001b[0m\u001b[0mus_data_X_all_train\u001b[0m\u001b[1;33m,\u001b[0m \u001b[0mus_data_Y_all_train\u001b[0m\u001b[1;33m)\u001b[0m\u001b[1;33m:\u001b[0m\u001b[1;33m\u001b[0m\u001b[1;33m\u001b[0m\u001b[0m\n\u001b[0m\u001b[0;32m     15\u001b[0m \u001b[1;33m\u001b[0m\u001b[0m\n\u001b[0;32m     16\u001b[0m     \u001b[0mus_y_arr_all\u001b[0m \u001b[1;33m=\u001b[0m \u001b[0mus_data_Y_all_train\u001b[0m\u001b[1;33m.\u001b[0m\u001b[0miloc\u001b[0m\u001b[1;33m[\u001b[0m\u001b[0mtest_ind\u001b[0m\u001b[1;33m]\u001b[0m\u001b[1;33m.\u001b[0m\u001b[0mto_numpy\u001b[0m\u001b[1;33m(\u001b[0m\u001b[1;33m)\u001b[0m\u001b[1;33m.\u001b[0m\u001b[0mravel\u001b[0m\u001b[1;33m(\u001b[0m\u001b[1;33m)\u001b[0m\u001b[1;33m\u001b[0m\u001b[1;33m\u001b[0m\u001b[0m\n",
      "\u001b[1;31mNameError\u001b[0m: name 'us_data_X_all_train' is not defined"
     ]
    }
   ],
   "source": [
    "# Step 1 - run model on each training and validation set\n",
    "# Record error metric\n",
    "\n",
    "sfk = StratifiedKFold(n_splits = 10, shuffle = True, random_state = 123)\n",
    "logisticRegr = LogisticRegression(fit_intercept = False, C = 1e9)\n",
    "\n",
    "f1_scores = []\n",
    "precision_scores = []\n",
    "preds = []\n",
    "models_all = []\n",
    "logitmodels_all = []\n",
    "sumlst_all = [] # Saving the summary list so we can get the pvalues\n",
    "\n",
    "for test_ind,val_ind in sfk.split(us_data_X_all_train, us_data_Y_all_train):\n",
    "    \n",
    "    us_y_arr_all = us_data_Y_all_train.iloc[test_ind].to_numpy().ravel()\n",
    "    \n",
    "    # Sklearn model\n",
    "    model = logisticRegr.fit(us_data_X_all_train.iloc[test_ind],us_y_arr_all)\n",
    "    models_all.append(model)\n",
    "    \n",
    "    # Logit model\n",
    "    result = sm.Logit(us_y_arr_all, (us_data_X_all_train.iloc[test_ind])).fit(disp = 0)\n",
    "    sumlst_all.append(result.summary())\n",
    "    logitmodels_all.append(result)\n",
    "    \n",
    "    pred = logisticRegr.predict(us_data_X_all_train.iloc[val_ind])\n",
    "    preds.append(pred)\n",
    "    \n",
    "    f1_scores.append(metrics.f1_score(us_data_Y_all_train.iloc[val_ind],pred))\n",
    "    precision_scores.append(metrics.precision_score(us_data_Y_all_train.iloc[val_ind],pred))"
   ]
  },
  {
   "cell_type": "code",
   "execution_count": 7,
   "metadata": {},
   "outputs": [
    {
     "ename": "ValueError",
     "evalue": "attempt to get argmax of an empty sequence",
     "output_type": "error",
     "traceback": [
      "\u001b[1;31m---------------------------------------------------------------------------\u001b[0m",
      "\u001b[1;31mValueError\u001b[0m                                Traceback (most recent call last)",
      "\u001b[1;32m<ipython-input-7-063e648d939e>\u001b[0m in \u001b[0;36m<module>\u001b[1;34m\u001b[0m\n\u001b[0;32m      1\u001b[0m \u001b[1;31m# Step 2 - Select the best model from error metric\u001b[0m\u001b[1;33m\u001b[0m\u001b[1;33m\u001b[0m\u001b[1;33m\u001b[0m\u001b[0m\n\u001b[0;32m      2\u001b[0m \u001b[0mlst\u001b[0m \u001b[1;33m=\u001b[0m \u001b[0mpd\u001b[0m\u001b[1;33m.\u001b[0m\u001b[0mDataFrame\u001b[0m\u001b[1;33m(\u001b[0m\u001b[0mnp\u001b[0m\u001b[1;33m.\u001b[0m\u001b[0mcolumn_stack\u001b[0m\u001b[1;33m(\u001b[0m\u001b[1;33m[\u001b[0m\u001b[0mf1_scores\u001b[0m\u001b[1;33m,\u001b[0m\u001b[0mprecision_scores\u001b[0m\u001b[1;33m]\u001b[0m\u001b[1;33m)\u001b[0m\u001b[1;33m,\u001b[0m \u001b[0mcolumns\u001b[0m \u001b[1;33m=\u001b[0m \u001b[1;33m[\u001b[0m\u001b[1;34m'F1 Scores'\u001b[0m\u001b[1;33m,\u001b[0m \u001b[1;34m'Precision Scores'\u001b[0m\u001b[1;33m]\u001b[0m\u001b[1;33m)\u001b[0m\u001b[1;33m\u001b[0m\u001b[1;33m\u001b[0m\u001b[0m\n\u001b[1;32m----> 3\u001b[1;33m \u001b[0mprint\u001b[0m\u001b[1;33m(\u001b[0m\u001b[0mlst\u001b[0m\u001b[1;33m.\u001b[0m\u001b[0midxmax\u001b[0m\u001b[1;33m(\u001b[0m\u001b[1;33m)\u001b[0m\u001b[1;33m)\u001b[0m \u001b[1;31m# print the fold with the highest scores\u001b[0m\u001b[1;33m\u001b[0m\u001b[1;33m\u001b[0m\u001b[0m\n\u001b[0m\u001b[0;32m      4\u001b[0m \u001b[0mbest_cv_all\u001b[0m \u001b[1;33m=\u001b[0m \u001b[0mlst\u001b[0m\u001b[1;33m[\u001b[0m\u001b[1;34m'Precision Scores'\u001b[0m\u001b[1;33m]\u001b[0m\u001b[1;33m.\u001b[0m\u001b[0midxmax\u001b[0m\u001b[1;33m(\u001b[0m\u001b[1;33m)\u001b[0m\u001b[1;33m\u001b[0m\u001b[1;33m\u001b[0m\u001b[0m\n\u001b[0;32m      5\u001b[0m \u001b[0mbest_cv_all\u001b[0m\u001b[1;33m\u001b[0m\u001b[1;33m\u001b[0m\u001b[0m\n",
      "\u001b[1;32m~\\Anaconda3\\envs\\fnb\\lib\\site-packages\\pandas\\core\\frame.py\u001b[0m in \u001b[0;36midxmax\u001b[1;34m(self, axis, skipna)\u001b[0m\n\u001b[0;32m   8863\u001b[0m         \"\"\"\n\u001b[0;32m   8864\u001b[0m         \u001b[0maxis\u001b[0m \u001b[1;33m=\u001b[0m \u001b[0mself\u001b[0m\u001b[1;33m.\u001b[0m\u001b[0m_get_axis_number\u001b[0m\u001b[1;33m(\u001b[0m\u001b[0maxis\u001b[0m\u001b[1;33m)\u001b[0m\u001b[1;33m\u001b[0m\u001b[1;33m\u001b[0m\u001b[0m\n\u001b[1;32m-> 8865\u001b[1;33m         \u001b[0mindices\u001b[0m \u001b[1;33m=\u001b[0m \u001b[0mnanops\u001b[0m\u001b[1;33m.\u001b[0m\u001b[0mnanargmax\u001b[0m\u001b[1;33m(\u001b[0m\u001b[0mself\u001b[0m\u001b[1;33m.\u001b[0m\u001b[0mvalues\u001b[0m\u001b[1;33m,\u001b[0m \u001b[0maxis\u001b[0m\u001b[1;33m=\u001b[0m\u001b[0maxis\u001b[0m\u001b[1;33m,\u001b[0m \u001b[0mskipna\u001b[0m\u001b[1;33m=\u001b[0m\u001b[0mskipna\u001b[0m\u001b[1;33m)\u001b[0m\u001b[1;33m\u001b[0m\u001b[1;33m\u001b[0m\u001b[0m\n\u001b[0m\u001b[0;32m   8866\u001b[0m \u001b[1;33m\u001b[0m\u001b[0m\n\u001b[0;32m   8867\u001b[0m         \u001b[1;31m# indices will always be np.ndarray since axis is not None and\u001b[0m\u001b[1;33m\u001b[0m\u001b[1;33m\u001b[0m\u001b[1;33m\u001b[0m\u001b[0m\n",
      "\u001b[1;32m~\\Anaconda3\\envs\\fnb\\lib\\site-packages\\pandas\\core\\nanops.py\u001b[0m in \u001b[0;36m_f\u001b[1;34m(*args, **kwargs)\u001b[0m\n\u001b[0;32m     69\u001b[0m             \u001b[1;32mtry\u001b[0m\u001b[1;33m:\u001b[0m\u001b[1;33m\u001b[0m\u001b[1;33m\u001b[0m\u001b[0m\n\u001b[0;32m     70\u001b[0m                 \u001b[1;32mwith\u001b[0m \u001b[0mnp\u001b[0m\u001b[1;33m.\u001b[0m\u001b[0merrstate\u001b[0m\u001b[1;33m(\u001b[0m\u001b[0minvalid\u001b[0m\u001b[1;33m=\u001b[0m\u001b[1;34m\"ignore\"\u001b[0m\u001b[1;33m)\u001b[0m\u001b[1;33m:\u001b[0m\u001b[1;33m\u001b[0m\u001b[1;33m\u001b[0m\u001b[0m\n\u001b[1;32m---> 71\u001b[1;33m                     \u001b[1;32mreturn\u001b[0m \u001b[0mf\u001b[0m\u001b[1;33m(\u001b[0m\u001b[1;33m*\u001b[0m\u001b[0margs\u001b[0m\u001b[1;33m,\u001b[0m \u001b[1;33m**\u001b[0m\u001b[0mkwargs\u001b[0m\u001b[1;33m)\u001b[0m\u001b[1;33m\u001b[0m\u001b[1;33m\u001b[0m\u001b[0m\n\u001b[0m\u001b[0;32m     72\u001b[0m             \u001b[1;32mexcept\u001b[0m \u001b[0mValueError\u001b[0m \u001b[1;32mas\u001b[0m \u001b[0me\u001b[0m\u001b[1;33m:\u001b[0m\u001b[1;33m\u001b[0m\u001b[1;33m\u001b[0m\u001b[0m\n\u001b[0;32m     73\u001b[0m                 \u001b[1;31m# we want to transform an object array\u001b[0m\u001b[1;33m\u001b[0m\u001b[1;33m\u001b[0m\u001b[1;33m\u001b[0m\u001b[0m\n",
      "\u001b[1;32m~\\Anaconda3\\envs\\fnb\\lib\\site-packages\\pandas\\core\\nanops.py\u001b[0m in \u001b[0;36mnanargmax\u001b[1;34m(values, axis, skipna, mask)\u001b[0m\n\u001b[0;32m    922\u001b[0m     \"\"\"\n\u001b[0;32m    923\u001b[0m     \u001b[0mvalues\u001b[0m\u001b[1;33m,\u001b[0m \u001b[0mmask\u001b[0m\u001b[1;33m,\u001b[0m \u001b[0m_\u001b[0m\u001b[1;33m,\u001b[0m \u001b[0m_\u001b[0m\u001b[1;33m,\u001b[0m \u001b[0m_\u001b[0m \u001b[1;33m=\u001b[0m \u001b[0m_get_values\u001b[0m\u001b[1;33m(\u001b[0m\u001b[0mvalues\u001b[0m\u001b[1;33m,\u001b[0m \u001b[1;32mTrue\u001b[0m\u001b[1;33m,\u001b[0m \u001b[0mfill_value_typ\u001b[0m\u001b[1;33m=\u001b[0m\u001b[1;34m\"-inf\"\u001b[0m\u001b[1;33m,\u001b[0m \u001b[0mmask\u001b[0m\u001b[1;33m=\u001b[0m\u001b[0mmask\u001b[0m\u001b[1;33m)\u001b[0m\u001b[1;33m\u001b[0m\u001b[1;33m\u001b[0m\u001b[0m\n\u001b[1;32m--> 924\u001b[1;33m     \u001b[0mresult\u001b[0m \u001b[1;33m=\u001b[0m \u001b[0mvalues\u001b[0m\u001b[1;33m.\u001b[0m\u001b[0margmax\u001b[0m\u001b[1;33m(\u001b[0m\u001b[0maxis\u001b[0m\u001b[1;33m)\u001b[0m\u001b[1;33m\u001b[0m\u001b[1;33m\u001b[0m\u001b[0m\n\u001b[0m\u001b[0;32m    925\u001b[0m     \u001b[0mresult\u001b[0m \u001b[1;33m=\u001b[0m \u001b[0m_maybe_arg_null_out\u001b[0m\u001b[1;33m(\u001b[0m\u001b[0mresult\u001b[0m\u001b[1;33m,\u001b[0m \u001b[0maxis\u001b[0m\u001b[1;33m,\u001b[0m \u001b[0mmask\u001b[0m\u001b[1;33m,\u001b[0m \u001b[0mskipna\u001b[0m\u001b[1;33m)\u001b[0m\u001b[1;33m\u001b[0m\u001b[1;33m\u001b[0m\u001b[0m\n\u001b[0;32m    926\u001b[0m     \u001b[1;32mreturn\u001b[0m \u001b[0mresult\u001b[0m\u001b[1;33m\u001b[0m\u001b[1;33m\u001b[0m\u001b[0m\n",
      "\u001b[1;31mValueError\u001b[0m: attempt to get argmax of an empty sequence"
     ]
    }
   ],
   "source": [
    "# Step 2 - Select the best model from error metric\n",
    "lst = pd.DataFrame(np.column_stack([f1_scores,precision_scores]), columns = ['F1 Scores', 'Precision Scores'])\n",
    "print(lst.idxmax()) # print the fold with the highest scores\n",
    "best_cv_all = lst['Precision Scores'].idxmax()\n",
    "best_cv_all"
   ]
  },
  {
   "cell_type": "code",
   "execution_count": 8,
   "metadata": {},
   "outputs": [
    {
     "ename": "NameError",
     "evalue": "name 'best_cv_all' is not defined",
     "output_type": "error",
     "traceback": [
      "\u001b[1;31m---------------------------------------------------------------------------\u001b[0m",
      "\u001b[1;31mNameError\u001b[0m                                 Traceback (most recent call last)",
      "\u001b[1;32m<ipython-input-8-05f460e9b0c2>\u001b[0m in \u001b[0;36m<module>\u001b[1;34m\u001b[0m\n\u001b[0;32m      1\u001b[0m \u001b[1;31m# Saving the model results for the best cv in both model types (logit and sklearn)\u001b[0m\u001b[1;33m\u001b[0m\u001b[1;33m\u001b[0m\u001b[1;33m\u001b[0m\u001b[0m\n\u001b[0;32m      2\u001b[0m \u001b[1;31m# Used later for a comparison table\u001b[0m\u001b[1;33m\u001b[0m\u001b[1;33m\u001b[0m\u001b[1;33m\u001b[0m\u001b[0m\n\u001b[1;32m----> 3\u001b[1;33m \u001b[0mlogit_all_pvalues\u001b[0m \u001b[1;33m=\u001b[0m \u001b[0mlogitmodels_all\u001b[0m\u001b[1;33m[\u001b[0m\u001b[0mbest_cv_all\u001b[0m\u001b[1;33m]\u001b[0m\u001b[1;33m.\u001b[0m\u001b[0mpvalues\u001b[0m\u001b[1;33m\u001b[0m\u001b[1;33m\u001b[0m\u001b[0m\n\u001b[0m\u001b[0;32m      4\u001b[0m \u001b[0mlogit_all_se\u001b[0m \u001b[1;33m=\u001b[0m \u001b[0mlogitmodels_all\u001b[0m\u001b[1;33m[\u001b[0m\u001b[0mbest_cv_all\u001b[0m\u001b[1;33m]\u001b[0m\u001b[1;33m.\u001b[0m\u001b[0mbse\u001b[0m\u001b[1;33m\u001b[0m\u001b[1;33m\u001b[0m\u001b[0m\n\u001b[0;32m      5\u001b[0m \u001b[0mlogit_all_coef\u001b[0m \u001b[1;33m=\u001b[0m \u001b[0mlogitmodels_all\u001b[0m\u001b[1;33m[\u001b[0m\u001b[0mbest_cv_all\u001b[0m\u001b[1;33m]\u001b[0m\u001b[1;33m.\u001b[0m\u001b[0mparams\u001b[0m\u001b[1;33m\u001b[0m\u001b[1;33m\u001b[0m\u001b[0m\n",
      "\u001b[1;31mNameError\u001b[0m: name 'best_cv_all' is not defined"
     ]
    }
   ],
   "source": [
    "# Saving the model results for the best cv in both model types (logit and sklearn)\n",
    "# Used later for a comparison table\n",
    "logit_all_pvalues = logitmodels_all[best_cv_all].pvalues\n",
    "logit_all_se = logitmodels_all[best_cv_all].bse\n",
    "logit_all_coef = logitmodels_all[best_cv_all].params\n",
    "us_all_coef = models_all[best_cv_all].coef_"
   ]
  },
  {
   "cell_type": "code",
   "execution_count": 9,
   "metadata": {},
   "outputs": [
    {
     "ename": "NameError",
     "evalue": "name 'best_cv_all' is not defined",
     "output_type": "error",
     "traceback": [
      "\u001b[1;31m---------------------------------------------------------------------------\u001b[0m",
      "\u001b[1;31mNameError\u001b[0m                                 Traceback (most recent call last)",
      "\u001b[1;32m<ipython-input-9-e1b66314b225>\u001b[0m in \u001b[0;36m<module>\u001b[1;34m\u001b[0m\n\u001b[0;32m      1\u001b[0m \u001b[1;31m# Calculating the error metrics for the best model\u001b[0m\u001b[1;33m\u001b[0m\u001b[1;33m\u001b[0m\u001b[1;33m\u001b[0m\u001b[0m\n\u001b[0;32m      2\u001b[0m \u001b[1;33m\u001b[0m\u001b[0m\n\u001b[1;32m----> 3\u001b[1;33m \u001b[0mpreds_all_val\u001b[0m \u001b[1;33m=\u001b[0m \u001b[0mmodels_all\u001b[0m\u001b[1;33m[\u001b[0m\u001b[0mbest_cv_all\u001b[0m\u001b[1;33m]\u001b[0m\u001b[1;33m.\u001b[0m\u001b[0mpredict\u001b[0m\u001b[1;33m(\u001b[0m\u001b[0mX_all_validate\u001b[0m\u001b[1;33m)\u001b[0m\u001b[1;33m\u001b[0m\u001b[1;33m\u001b[0m\u001b[0m\n\u001b[0m\u001b[0;32m      4\u001b[0m \u001b[1;33m\u001b[0m\u001b[0m\n\u001b[0;32m      5\u001b[0m \u001b[0maccuracy_us_all\u001b[0m \u001b[1;33m=\u001b[0m \u001b[0mmetrics\u001b[0m\u001b[1;33m.\u001b[0m\u001b[0maccuracy_score\u001b[0m\u001b[1;33m(\u001b[0m\u001b[0mY_all_validate\u001b[0m\u001b[1;33m,\u001b[0m \u001b[0mpreds_all_val\u001b[0m\u001b[1;33m)\u001b[0m\u001b[1;33m\u001b[0m\u001b[1;33m\u001b[0m\u001b[0m\n",
      "\u001b[1;31mNameError\u001b[0m: name 'best_cv_all' is not defined"
     ]
    }
   ],
   "source": [
    "# Calculating the error metrics for the best model\n",
    "\n",
    "preds_all_val = models_all[best_cv_all].predict(X_all_validate)\n",
    "\n",
    "accuracy_us_all = metrics.accuracy_score(Y_all_validate, preds_all_val)\n",
    "precision_us_all = metrics.precision_score(Y_all_validate, preds_all_val)\n",
    "f1_score_us_all = metrics.f1_score(Y_all_validate, preds_all_val)\n",
    "auc_score_us_all = metrics.roc_auc_score(Y_all_validate, preds_all_val)\n",
    "confusion_us_all = metrics.confusion_matrix(Y_all_validate, preds_all_val)\n",
    "recall_us_all = metrics.recall_score(Y_all_validate, preds_all_val)\n",
    "\n",
    "print(\"Accuracy: {}\".format(round(accuracy_us_all, 3)))\n",
    "print(\"Precision: {}\".format(round(precision_us_all,3)))\n",
    "print(\"F1 score: {}\".format(round(f1_score_us_all,3)))\n",
    "print(\"AUC score: {}\".format(round(auc_score_us_all,3)))\n",
    "print(\"Recall score: {}\".format(round(recall_us_all,3)))\n",
    "print(\"Confusion Matrix: \\n{}\".format(confusion_us_all))"
   ]
  },
  {
   "cell_type": "code",
   "execution_count": 10,
   "metadata": {},
   "outputs": [
    {
     "ename": "NameError",
     "evalue": "name 'best_cv_all' is not defined",
     "output_type": "error",
     "traceback": [
      "\u001b[1;31m---------------------------------------------------------------------------\u001b[0m",
      "\u001b[1;31mNameError\u001b[0m                                 Traceback (most recent call last)",
      "\u001b[1;32m<ipython-input-10-ecf69cce0554>\u001b[0m in \u001b[0;36m<module>\u001b[1;34m\u001b[0m\n\u001b[0;32m      1\u001b[0m \u001b[1;31m# Step 3 - fit the best model to the test set and calculate prediction metrics\u001b[0m\u001b[1;33m\u001b[0m\u001b[1;33m\u001b[0m\u001b[1;33m\u001b[0m\u001b[0m\n\u001b[1;32m----> 2\u001b[1;33m \u001b[0mpred_all_test\u001b[0m \u001b[1;33m=\u001b[0m \u001b[0mmodels_all\u001b[0m\u001b[1;33m[\u001b[0m\u001b[0mbest_cv_all\u001b[0m\u001b[1;33m]\u001b[0m\u001b[1;33m.\u001b[0m\u001b[0mpredict\u001b[0m\u001b[1;33m(\u001b[0m\u001b[0mX_all_test\u001b[0m\u001b[1;33m)\u001b[0m\u001b[1;33m\u001b[0m\u001b[1;33m\u001b[0m\u001b[0m\n\u001b[0m\u001b[0;32m      3\u001b[0m \u001b[1;33m\u001b[0m\u001b[0m\n\u001b[0;32m      4\u001b[0m \u001b[0maccuracy_us_all\u001b[0m \u001b[1;33m=\u001b[0m \u001b[0mmetrics\u001b[0m\u001b[1;33m.\u001b[0m\u001b[0maccuracy_score\u001b[0m\u001b[1;33m(\u001b[0m\u001b[0mY_all_test\u001b[0m\u001b[1;33m,\u001b[0m \u001b[0mpred_all_test\u001b[0m\u001b[1;33m)\u001b[0m\u001b[1;33m\u001b[0m\u001b[1;33m\u001b[0m\u001b[0m\n\u001b[0;32m      5\u001b[0m \u001b[0mprecision_us_all\u001b[0m \u001b[1;33m=\u001b[0m \u001b[0mmetrics\u001b[0m\u001b[1;33m.\u001b[0m\u001b[0mprecision_score\u001b[0m\u001b[1;33m(\u001b[0m\u001b[0mY_all_test\u001b[0m\u001b[1;33m,\u001b[0m \u001b[0mpred_all_test\u001b[0m\u001b[1;33m)\u001b[0m\u001b[1;33m\u001b[0m\u001b[1;33m\u001b[0m\u001b[0m\n",
      "\u001b[1;31mNameError\u001b[0m: name 'best_cv_all' is not defined"
     ]
    }
   ],
   "source": [
    "# Step 3 - fit the best model to the test set and calculate prediction metrics\n",
    "pred_all_test = models_all[best_cv_all].predict(X_all_test)\n",
    "\n",
    "accuracy_us_all = metrics.accuracy_score(Y_all_test, pred_all_test)\n",
    "precision_us_all = metrics.precision_score(Y_all_test, pred_all_test)\n",
    "f1_score_us_all = metrics.f1_score(Y_all_test, pred_all_test)\n",
    "auc_score_us_all = metrics.roc_auc_score(Y_all_test, pred_all_test)\n",
    "confusion_us_all = metrics.confusion_matrix(Y_all_test, pred_all_test)\n",
    "recall_us_all = metrics.recall_score(Y_all_test, pred_all_test)\n",
    "\n",
    "print(\"Accuracy: {}\".format(round(accuracy_us_all, 3)))\n",
    "print(\"Precision: {}\".format(round(precision_us_all,3)))\n",
    "print(\"F1 score: {}\".format(round(f1_score_us_all,3)))\n",
    "print(\"AUC score: {}\".format(round(auc_score_us_all,3)))\n",
    "print(\"Recall score: {}\".format(round(recall_us_all,3)))\n",
    "print(\"Confusion Matrix: \\n{}\".format(confusion_us_all))"
   ]
  },
  {
   "cell_type": "code",
   "execution_count": 11,
   "metadata": {},
   "outputs": [
    {
     "ename": "NameError",
     "evalue": "name 'best_cv_all' is not defined",
     "output_type": "error",
     "traceback": [
      "\u001b[1;31m---------------------------------------------------------------------------\u001b[0m",
      "\u001b[1;31mNameError\u001b[0m                                 Traceback (most recent call last)",
      "\u001b[1;32m<ipython-input-11-bbb75c238321>\u001b[0m in \u001b[0;36m<module>\u001b[1;34m\u001b[0m\n\u001b[0;32m      1\u001b[0m \u001b[1;31m# Get the probabilities\u001b[0m\u001b[1;33m\u001b[0m\u001b[1;33m\u001b[0m\u001b[1;33m\u001b[0m\u001b[0m\n\u001b[1;32m----> 2\u001b[1;33m \u001b[0mus_all_proba\u001b[0m \u001b[1;33m=\u001b[0m \u001b[0mmodels_all\u001b[0m\u001b[1;33m[\u001b[0m\u001b[0mbest_cv_all\u001b[0m\u001b[1;33m]\u001b[0m\u001b[1;33m.\u001b[0m\u001b[0mpredict_proba\u001b[0m\u001b[1;33m(\u001b[0m\u001b[0mX_all_test\u001b[0m\u001b[1;33m)\u001b[0m\u001b[1;33m\u001b[0m\u001b[1;33m\u001b[0m\u001b[0m\n\u001b[0m\u001b[0;32m      3\u001b[0m \u001b[1;33m\u001b[0m\u001b[0m\n\u001b[0;32m      4\u001b[0m \u001b[1;31m# Combine the probabilites with the original data so we can tie it back to the customer\u001b[0m\u001b[1;33m\u001b[0m\u001b[1;33m\u001b[0m\u001b[1;33m\u001b[0m\u001b[0m\n\u001b[0;32m      5\u001b[0m \u001b[0mX_all_test_reset\u001b[0m \u001b[1;33m=\u001b[0m \u001b[0mX_all_test\u001b[0m\u001b[1;33m.\u001b[0m\u001b[0mreset_index\u001b[0m\u001b[1;33m(\u001b[0m\u001b[1;33m)\u001b[0m\u001b[1;33m\u001b[0m\u001b[1;33m\u001b[0m\u001b[0m\n",
      "\u001b[1;31mNameError\u001b[0m: name 'best_cv_all' is not defined"
     ]
    }
   ],
   "source": [
    "# Get the probabilities\n",
    "us_all_proba = models_all[best_cv_all].predict_proba(X_all_test)\n",
    "\n",
    "# Combine the probabilites with the original data so we can tie it back to the customer\n",
    "X_all_test_reset = X_all_test.reset_index()\n",
    "prob = pd.DataFrame(us_all_proba, columns = ['Neg', 'Pos'])\n",
    "us_all_prob_list = pd.merge(prob,X_all_test_reset,how = 'inner', left_index = True, right_index = True)\n",
    "\n",
    "# # Decile list\n",
    "binx = [0,0.1,0.2,0.3,0.4,0.5,0.6,0.7,0.8,0.9,1.0]\n",
    "us_all_leads = us_all_prob_list.Pos.value_counts(bins = binx).sort_index(ascending = False)\n",
    "#print(us_all_leads)"
   ]
  },
  {
   "cell_type": "markdown",
   "metadata": {},
   "source": [
    "#### Undersampling - Cross Sell Mortgage Customers Only"
   ]
  },
  {
   "cell_type": "code",
   "execution_count": 12,
   "metadata": {},
   "outputs": [
    {
     "ename": "NameError",
     "evalue": "name 'us_data_X_notOnly_train' is not defined",
     "output_type": "error",
     "traceback": [
      "\u001b[1;31m---------------------------------------------------------------------------\u001b[0m",
      "\u001b[1;31mNameError\u001b[0m                                 Traceback (most recent call last)",
      "\u001b[1;32m<ipython-input-12-1b172fb08831>\u001b[0m in \u001b[0;36m<module>\u001b[1;34m\u001b[0m\n\u001b[0;32m     12\u001b[0m \u001b[0mlogitmodels_notOnly\u001b[0m\u001b[1;33m=\u001b[0m \u001b[1;33m[\u001b[0m\u001b[1;33m]\u001b[0m\u001b[1;33m\u001b[0m\u001b[1;33m\u001b[0m\u001b[0m\n\u001b[0;32m     13\u001b[0m \u001b[1;33m\u001b[0m\u001b[0m\n\u001b[1;32m---> 14\u001b[1;33m \u001b[1;32mfor\u001b[0m \u001b[0mtest_ind\u001b[0m\u001b[1;33m,\u001b[0m\u001b[0mval_ind\u001b[0m \u001b[1;32min\u001b[0m \u001b[0msfk\u001b[0m\u001b[1;33m.\u001b[0m\u001b[0msplit\u001b[0m\u001b[1;33m(\u001b[0m\u001b[0mus_data_X_notOnly_train\u001b[0m\u001b[1;33m,\u001b[0m \u001b[0mus_data_Y_notOnly_train\u001b[0m\u001b[1;33m)\u001b[0m\u001b[1;33m:\u001b[0m\u001b[1;33m\u001b[0m\u001b[1;33m\u001b[0m\u001b[0m\n\u001b[0m\u001b[0;32m     15\u001b[0m \u001b[1;33m\u001b[0m\u001b[0m\n\u001b[0;32m     16\u001b[0m     \u001b[0mus_y_arr_notOnly\u001b[0m \u001b[1;33m=\u001b[0m \u001b[0mus_data_Y_notOnly_train\u001b[0m\u001b[1;33m.\u001b[0m\u001b[0miloc\u001b[0m\u001b[1;33m[\u001b[0m\u001b[0mtest_ind\u001b[0m\u001b[1;33m]\u001b[0m\u001b[1;33m.\u001b[0m\u001b[0mto_numpy\u001b[0m\u001b[1;33m(\u001b[0m\u001b[1;33m)\u001b[0m\u001b[1;33m.\u001b[0m\u001b[0mravel\u001b[0m\u001b[1;33m(\u001b[0m\u001b[1;33m)\u001b[0m\u001b[1;33m\u001b[0m\u001b[1;33m\u001b[0m\u001b[0m\n",
      "\u001b[1;31mNameError\u001b[0m: name 'us_data_X_notOnly_train' is not defined"
     ]
    }
   ],
   "source": [
    "# Step 1 - run model on each training and validation set\n",
    "# Record error metric\n",
    "\n",
    "sfk = StratifiedKFold(n_splits = 10, shuffle = True, random_state = 123)\n",
    "logisticRegr = LogisticRegression(fit_intercept = False, C = 1e9)\n",
    "\n",
    "f1_scores = []\n",
    "precision_scores = []\n",
    "preds = []\n",
    "models_notOnly = []\n",
    "sumlst_notOnly = [] # Saving the summary list so we can get the pvalues\n",
    "logitmodels_notOnly= []\n",
    "\n",
    "for test_ind,val_ind in sfk.split(us_data_X_notOnly_train, us_data_Y_notOnly_train):\n",
    "    \n",
    "    us_y_arr_notOnly = us_data_Y_notOnly_train.iloc[test_ind].to_numpy().ravel()\n",
    "    \n",
    "    # Sklearn model\n",
    "    model = logisticRegr.fit(us_data_X_notOnly_train.iloc[test_ind],us_y_arr_notOnly)\n",
    "    models_notOnly.append(model)\n",
    "    \n",
    "    # Logit model\n",
    "    result = sm.Logit(us_y_arr_notOnly, (us_data_X_notOnly_train.iloc[test_ind])).fit(disp = 0)\n",
    "    sumlst_notOnly.append(result.summary())\n",
    "    logitmodels_notOnly.append(result)\n",
    "    \n",
    "    pred = logisticRegr.predict(us_data_X_notOnly_train.iloc[val_ind])\n",
    "    preds.append(pred)\n",
    "    \n",
    "    f1_scores.append(metrics.f1_score(us_data_Y_notOnly_train.iloc[val_ind],pred))\n",
    "    precision_scores.append(metrics.precision_score(us_data_Y_notOnly_train.iloc[val_ind],pred))"
   ]
  },
  {
   "cell_type": "code",
   "execution_count": 13,
   "metadata": {},
   "outputs": [
    {
     "ename": "ValueError",
     "evalue": "attempt to get argmax of an empty sequence",
     "output_type": "error",
     "traceback": [
      "\u001b[1;31m---------------------------------------------------------------------------\u001b[0m",
      "\u001b[1;31mValueError\u001b[0m                                Traceback (most recent call last)",
      "\u001b[1;32m<ipython-input-13-1bae22ff40dd>\u001b[0m in \u001b[0;36m<module>\u001b[1;34m\u001b[0m\n\u001b[0;32m      2\u001b[0m \u001b[0mpd\u001b[0m\u001b[1;33m.\u001b[0m\u001b[0mset_option\u001b[0m\u001b[1;33m(\u001b[0m\u001b[1;34m'display.max_rows'\u001b[0m\u001b[1;33m,\u001b[0m \u001b[1;36m100\u001b[0m\u001b[1;33m)\u001b[0m\u001b[1;33m\u001b[0m\u001b[1;33m\u001b[0m\u001b[0m\n\u001b[0;32m      3\u001b[0m \u001b[0mlst\u001b[0m \u001b[1;33m=\u001b[0m \u001b[0mpd\u001b[0m\u001b[1;33m.\u001b[0m\u001b[0mDataFrame\u001b[0m\u001b[1;33m(\u001b[0m\u001b[0mnp\u001b[0m\u001b[1;33m.\u001b[0m\u001b[0mcolumn_stack\u001b[0m\u001b[1;33m(\u001b[0m\u001b[1;33m[\u001b[0m\u001b[0mf1_scores\u001b[0m\u001b[1;33m,\u001b[0m\u001b[0mprecision_scores\u001b[0m\u001b[1;33m]\u001b[0m\u001b[1;33m)\u001b[0m\u001b[1;33m,\u001b[0m \u001b[0mcolumns\u001b[0m \u001b[1;33m=\u001b[0m \u001b[1;33m[\u001b[0m\u001b[1;34m'F1 Scores'\u001b[0m\u001b[1;33m,\u001b[0m \u001b[1;34m'Precision Scores'\u001b[0m\u001b[1;33m]\u001b[0m\u001b[1;33m)\u001b[0m\u001b[1;33m\u001b[0m\u001b[1;33m\u001b[0m\u001b[0m\n\u001b[1;32m----> 4\u001b[1;33m \u001b[0mprint\u001b[0m\u001b[1;33m(\u001b[0m\u001b[0mlst\u001b[0m\u001b[1;33m.\u001b[0m\u001b[0midxmax\u001b[0m\u001b[1;33m(\u001b[0m\u001b[1;33m)\u001b[0m\u001b[1;33m)\u001b[0m\u001b[1;33m\u001b[0m\u001b[1;33m\u001b[0m\u001b[0m\n\u001b[0m\u001b[0;32m      5\u001b[0m \u001b[0mbest_cv_notOnly\u001b[0m \u001b[1;33m=\u001b[0m \u001b[0mlst\u001b[0m\u001b[1;33m[\u001b[0m\u001b[1;34m'Precision Scores'\u001b[0m\u001b[1;33m]\u001b[0m\u001b[1;33m.\u001b[0m\u001b[0midxmax\u001b[0m\u001b[1;33m(\u001b[0m\u001b[1;33m)\u001b[0m\u001b[1;33m\u001b[0m\u001b[1;33m\u001b[0m\u001b[0m\n\u001b[0;32m      6\u001b[0m \u001b[0mbest_cv_notOnly\u001b[0m\u001b[1;33m\u001b[0m\u001b[1;33m\u001b[0m\u001b[0m\n",
      "\u001b[1;32m~\\Anaconda3\\envs\\fnb\\lib\\site-packages\\pandas\\core\\frame.py\u001b[0m in \u001b[0;36midxmax\u001b[1;34m(self, axis, skipna)\u001b[0m\n\u001b[0;32m   8863\u001b[0m         \"\"\"\n\u001b[0;32m   8864\u001b[0m         \u001b[0maxis\u001b[0m \u001b[1;33m=\u001b[0m \u001b[0mself\u001b[0m\u001b[1;33m.\u001b[0m\u001b[0m_get_axis_number\u001b[0m\u001b[1;33m(\u001b[0m\u001b[0maxis\u001b[0m\u001b[1;33m)\u001b[0m\u001b[1;33m\u001b[0m\u001b[1;33m\u001b[0m\u001b[0m\n\u001b[1;32m-> 8865\u001b[1;33m         \u001b[0mindices\u001b[0m \u001b[1;33m=\u001b[0m \u001b[0mnanops\u001b[0m\u001b[1;33m.\u001b[0m\u001b[0mnanargmax\u001b[0m\u001b[1;33m(\u001b[0m\u001b[0mself\u001b[0m\u001b[1;33m.\u001b[0m\u001b[0mvalues\u001b[0m\u001b[1;33m,\u001b[0m \u001b[0maxis\u001b[0m\u001b[1;33m=\u001b[0m\u001b[0maxis\u001b[0m\u001b[1;33m,\u001b[0m \u001b[0mskipna\u001b[0m\u001b[1;33m=\u001b[0m\u001b[0mskipna\u001b[0m\u001b[1;33m)\u001b[0m\u001b[1;33m\u001b[0m\u001b[1;33m\u001b[0m\u001b[0m\n\u001b[0m\u001b[0;32m   8866\u001b[0m \u001b[1;33m\u001b[0m\u001b[0m\n\u001b[0;32m   8867\u001b[0m         \u001b[1;31m# indices will always be np.ndarray since axis is not None and\u001b[0m\u001b[1;33m\u001b[0m\u001b[1;33m\u001b[0m\u001b[1;33m\u001b[0m\u001b[0m\n",
      "\u001b[1;32m~\\Anaconda3\\envs\\fnb\\lib\\site-packages\\pandas\\core\\nanops.py\u001b[0m in \u001b[0;36m_f\u001b[1;34m(*args, **kwargs)\u001b[0m\n\u001b[0;32m     69\u001b[0m             \u001b[1;32mtry\u001b[0m\u001b[1;33m:\u001b[0m\u001b[1;33m\u001b[0m\u001b[1;33m\u001b[0m\u001b[0m\n\u001b[0;32m     70\u001b[0m                 \u001b[1;32mwith\u001b[0m \u001b[0mnp\u001b[0m\u001b[1;33m.\u001b[0m\u001b[0merrstate\u001b[0m\u001b[1;33m(\u001b[0m\u001b[0minvalid\u001b[0m\u001b[1;33m=\u001b[0m\u001b[1;34m\"ignore\"\u001b[0m\u001b[1;33m)\u001b[0m\u001b[1;33m:\u001b[0m\u001b[1;33m\u001b[0m\u001b[1;33m\u001b[0m\u001b[0m\n\u001b[1;32m---> 71\u001b[1;33m                     \u001b[1;32mreturn\u001b[0m \u001b[0mf\u001b[0m\u001b[1;33m(\u001b[0m\u001b[1;33m*\u001b[0m\u001b[0margs\u001b[0m\u001b[1;33m,\u001b[0m \u001b[1;33m**\u001b[0m\u001b[0mkwargs\u001b[0m\u001b[1;33m)\u001b[0m\u001b[1;33m\u001b[0m\u001b[1;33m\u001b[0m\u001b[0m\n\u001b[0m\u001b[0;32m     72\u001b[0m             \u001b[1;32mexcept\u001b[0m \u001b[0mValueError\u001b[0m \u001b[1;32mas\u001b[0m \u001b[0me\u001b[0m\u001b[1;33m:\u001b[0m\u001b[1;33m\u001b[0m\u001b[1;33m\u001b[0m\u001b[0m\n\u001b[0;32m     73\u001b[0m                 \u001b[1;31m# we want to transform an object array\u001b[0m\u001b[1;33m\u001b[0m\u001b[1;33m\u001b[0m\u001b[1;33m\u001b[0m\u001b[0m\n",
      "\u001b[1;32m~\\Anaconda3\\envs\\fnb\\lib\\site-packages\\pandas\\core\\nanops.py\u001b[0m in \u001b[0;36mnanargmax\u001b[1;34m(values, axis, skipna, mask)\u001b[0m\n\u001b[0;32m    922\u001b[0m     \"\"\"\n\u001b[0;32m    923\u001b[0m     \u001b[0mvalues\u001b[0m\u001b[1;33m,\u001b[0m \u001b[0mmask\u001b[0m\u001b[1;33m,\u001b[0m \u001b[0m_\u001b[0m\u001b[1;33m,\u001b[0m \u001b[0m_\u001b[0m\u001b[1;33m,\u001b[0m \u001b[0m_\u001b[0m \u001b[1;33m=\u001b[0m \u001b[0m_get_values\u001b[0m\u001b[1;33m(\u001b[0m\u001b[0mvalues\u001b[0m\u001b[1;33m,\u001b[0m \u001b[1;32mTrue\u001b[0m\u001b[1;33m,\u001b[0m \u001b[0mfill_value_typ\u001b[0m\u001b[1;33m=\u001b[0m\u001b[1;34m\"-inf\"\u001b[0m\u001b[1;33m,\u001b[0m \u001b[0mmask\u001b[0m\u001b[1;33m=\u001b[0m\u001b[0mmask\u001b[0m\u001b[1;33m)\u001b[0m\u001b[1;33m\u001b[0m\u001b[1;33m\u001b[0m\u001b[0m\n\u001b[1;32m--> 924\u001b[1;33m     \u001b[0mresult\u001b[0m \u001b[1;33m=\u001b[0m \u001b[0mvalues\u001b[0m\u001b[1;33m.\u001b[0m\u001b[0margmax\u001b[0m\u001b[1;33m(\u001b[0m\u001b[0maxis\u001b[0m\u001b[1;33m)\u001b[0m\u001b[1;33m\u001b[0m\u001b[1;33m\u001b[0m\u001b[0m\n\u001b[0m\u001b[0;32m    925\u001b[0m     \u001b[0mresult\u001b[0m \u001b[1;33m=\u001b[0m \u001b[0m_maybe_arg_null_out\u001b[0m\u001b[1;33m(\u001b[0m\u001b[0mresult\u001b[0m\u001b[1;33m,\u001b[0m \u001b[0maxis\u001b[0m\u001b[1;33m,\u001b[0m \u001b[0mmask\u001b[0m\u001b[1;33m,\u001b[0m \u001b[0mskipna\u001b[0m\u001b[1;33m)\u001b[0m\u001b[1;33m\u001b[0m\u001b[1;33m\u001b[0m\u001b[0m\n\u001b[0;32m    926\u001b[0m     \u001b[1;32mreturn\u001b[0m \u001b[0mresult\u001b[0m\u001b[1;33m\u001b[0m\u001b[1;33m\u001b[0m\u001b[0m\n",
      "\u001b[1;31mValueError\u001b[0m: attempt to get argmax of an empty sequence"
     ]
    }
   ],
   "source": [
    "# Step 2 - Select the best model from error metric\n",
    "pd.set_option('display.max_rows', 100)\n",
    "lst = pd.DataFrame(np.column_stack([f1_scores,precision_scores]), columns = ['F1 Scores', 'Precision Scores'])\n",
    "print(lst.idxmax())\n",
    "best_cv_notOnly = lst['Precision Scores'].idxmax()\n",
    "best_cv_notOnly"
   ]
  },
  {
   "cell_type": "code",
   "execution_count": 14,
   "metadata": {},
   "outputs": [
    {
     "ename": "NameError",
     "evalue": "name 'best_cv_notOnly' is not defined",
     "output_type": "error",
     "traceback": [
      "\u001b[1;31m---------------------------------------------------------------------------\u001b[0m",
      "\u001b[1;31mNameError\u001b[0m                                 Traceback (most recent call last)",
      "\u001b[1;32m<ipython-input-14-2f217ac99609>\u001b[0m in \u001b[0;36m<module>\u001b[1;34m\u001b[0m\n\u001b[0;32m      1\u001b[0m \u001b[1;31m# Saving the model results for the best cv in both model types (logit and sklearn)\u001b[0m\u001b[1;33m\u001b[0m\u001b[1;33m\u001b[0m\u001b[1;33m\u001b[0m\u001b[0m\n\u001b[0;32m      2\u001b[0m \u001b[1;31m# Used later for a comparison table\u001b[0m\u001b[1;33m\u001b[0m\u001b[1;33m\u001b[0m\u001b[1;33m\u001b[0m\u001b[0m\n\u001b[1;32m----> 3\u001b[1;33m \u001b[0mlogit_notOnly_pvalues\u001b[0m \u001b[1;33m=\u001b[0m \u001b[0mlogitmodels_notOnly\u001b[0m\u001b[1;33m[\u001b[0m\u001b[0mbest_cv_notOnly\u001b[0m\u001b[1;33m]\u001b[0m\u001b[1;33m.\u001b[0m\u001b[0mpvalues\u001b[0m\u001b[1;33m\u001b[0m\u001b[1;33m\u001b[0m\u001b[0m\n\u001b[0m\u001b[0;32m      4\u001b[0m \u001b[0mlogit_notOnly_se\u001b[0m \u001b[1;33m=\u001b[0m \u001b[0mlogitmodels_notOnly\u001b[0m\u001b[1;33m[\u001b[0m\u001b[0mbest_cv_notOnly\u001b[0m\u001b[1;33m]\u001b[0m\u001b[1;33m.\u001b[0m\u001b[0mbse\u001b[0m\u001b[1;33m\u001b[0m\u001b[1;33m\u001b[0m\u001b[0m\n\u001b[0;32m      5\u001b[0m \u001b[0mlogit_notOnly_coef\u001b[0m \u001b[1;33m=\u001b[0m \u001b[0mlogitmodels_notOnly\u001b[0m\u001b[1;33m[\u001b[0m\u001b[0mbest_cv_notOnly\u001b[0m\u001b[1;33m]\u001b[0m\u001b[1;33m.\u001b[0m\u001b[0mparams\u001b[0m\u001b[1;33m\u001b[0m\u001b[1;33m\u001b[0m\u001b[0m\n",
      "\u001b[1;31mNameError\u001b[0m: name 'best_cv_notOnly' is not defined"
     ]
    }
   ],
   "source": [
    "# Saving the model results for the best cv in both model types (logit and sklearn)\n",
    "# Used later for a comparison table\n",
    "logit_notOnly_pvalues = logitmodels_notOnly[best_cv_notOnly].pvalues\n",
    "logit_notOnly_se = logitmodels_notOnly[best_cv_notOnly].bse\n",
    "logit_notOnly_coef = logitmodels_notOnly[best_cv_notOnly].params\n",
    "us_notOnly_coef = models_notOnly[best_cv_notOnly].coef_"
   ]
  },
  {
   "cell_type": "code",
   "execution_count": 15,
   "metadata": {},
   "outputs": [
    {
     "ename": "NameError",
     "evalue": "name 'best_cv_notOnly' is not defined",
     "output_type": "error",
     "traceback": [
      "\u001b[1;31m---------------------------------------------------------------------------\u001b[0m",
      "\u001b[1;31mNameError\u001b[0m                                 Traceback (most recent call last)",
      "\u001b[1;32m<ipython-input-15-6e001e9ff9f3>\u001b[0m in \u001b[0;36m<module>\u001b[1;34m\u001b[0m\n\u001b[0;32m      1\u001b[0m \u001b[1;31m# Step 3 - fit the best model to the validation set and record error metrics\u001b[0m\u001b[1;33m\u001b[0m\u001b[1;33m\u001b[0m\u001b[1;33m\u001b[0m\u001b[0m\n\u001b[0;32m      2\u001b[0m \u001b[1;33m\u001b[0m\u001b[0m\n\u001b[1;32m----> 3\u001b[1;33m \u001b[0mpred_notOnly_val\u001b[0m \u001b[1;33m=\u001b[0m \u001b[0mmodels_notOnly\u001b[0m\u001b[1;33m[\u001b[0m\u001b[0mbest_cv_notOnly\u001b[0m\u001b[1;33m]\u001b[0m\u001b[1;33m.\u001b[0m\u001b[0mpredict\u001b[0m\u001b[1;33m(\u001b[0m\u001b[0mX_notOnly_validate\u001b[0m\u001b[1;33m)\u001b[0m\u001b[1;33m\u001b[0m\u001b[1;33m\u001b[0m\u001b[0m\n\u001b[0m\u001b[0;32m      4\u001b[0m \u001b[1;33m\u001b[0m\u001b[0m\n\u001b[0;32m      5\u001b[0m \u001b[0maccuracy_us_notOnly\u001b[0m \u001b[1;33m=\u001b[0m \u001b[0mmetrics\u001b[0m\u001b[1;33m.\u001b[0m\u001b[0maccuracy_score\u001b[0m\u001b[1;33m(\u001b[0m\u001b[0mY_notOnly_validate\u001b[0m\u001b[1;33m,\u001b[0m \u001b[0mpred_notOnly_val\u001b[0m\u001b[1;33m)\u001b[0m\u001b[1;33m\u001b[0m\u001b[1;33m\u001b[0m\u001b[0m\n",
      "\u001b[1;31mNameError\u001b[0m: name 'best_cv_notOnly' is not defined"
     ]
    }
   ],
   "source": [
    "# Step 3 - fit the best model to the validation set and record error metrics\n",
    "\n",
    "pred_notOnly_val = models_notOnly[best_cv_notOnly].predict(X_notOnly_validate)\n",
    "\n",
    "accuracy_us_notOnly = metrics.accuracy_score(Y_notOnly_validate, pred_notOnly_val)\n",
    "precision_us_notOnly = metrics.precision_score(Y_notOnly_validate, pred_notOnly_val)\n",
    "f1_score_us_notOnly = metrics.f1_score(Y_notOnly_validate, pred_notOnly_val)\n",
    "auc_score_us_notOnly = metrics.roc_auc_score(Y_notOnly_validate, pred_notOnly_val)\n",
    "confusion_us_notOnly = metrics.confusion_matrix(Y_notOnly_validate, pred_notOnly_val)\n",
    "recall_us_notOnly = metrics.recall_score(Y_notOnly_validate, pred_notOnly_val)\n",
    "\n",
    "print(\"Accuracy: {}\".format(round(accuracy_us_notOnly, 3)))\n",
    "print(\"Precision: {}\".format(round(precision_us_notOnly,3)))\n",
    "print(\"F1 score: {}\".format(round(f1_score_us_notOnly,3)))\n",
    "print(\"AUC score: {}\".format(round(auc_score_us_notOnly,3)))\n",
    "print(\"Recall score: {}\".format(round(recall_us_notOnly,3)))\n",
    "print(\"Confusion Matrix: \\n{}\".format(confusion_us_notOnly))"
   ]
  },
  {
   "cell_type": "code",
   "execution_count": 16,
   "metadata": {},
   "outputs": [
    {
     "ename": "NameError",
     "evalue": "name 'best_cv_notOnly' is not defined",
     "output_type": "error",
     "traceback": [
      "\u001b[1;31m---------------------------------------------------------------------------\u001b[0m",
      "\u001b[1;31mNameError\u001b[0m                                 Traceback (most recent call last)",
      "\u001b[1;32m<ipython-input-16-da8ef4ee83a1>\u001b[0m in \u001b[0;36m<module>\u001b[1;34m\u001b[0m\n\u001b[0;32m      1\u001b[0m \u001b[1;31m# Step 3 - fit the best model to the test set and calculate prediction metrics\u001b[0m\u001b[1;33m\u001b[0m\u001b[1;33m\u001b[0m\u001b[1;33m\u001b[0m\u001b[0m\n\u001b[1;32m----> 2\u001b[1;33m \u001b[0mpred_notOnly_test\u001b[0m \u001b[1;33m=\u001b[0m \u001b[0mmodels_notOnly\u001b[0m\u001b[1;33m[\u001b[0m\u001b[0mbest_cv_notOnly\u001b[0m\u001b[1;33m]\u001b[0m\u001b[1;33m.\u001b[0m\u001b[0mpredict\u001b[0m\u001b[1;33m(\u001b[0m\u001b[0mX_notOnly_test\u001b[0m\u001b[1;33m)\u001b[0m\u001b[1;33m\u001b[0m\u001b[1;33m\u001b[0m\u001b[0m\n\u001b[0m\u001b[0;32m      3\u001b[0m \u001b[1;33m\u001b[0m\u001b[0m\n\u001b[0;32m      4\u001b[0m \u001b[0maccuracy_us_notOnly\u001b[0m \u001b[1;33m=\u001b[0m \u001b[0mmetrics\u001b[0m\u001b[1;33m.\u001b[0m\u001b[0maccuracy_score\u001b[0m\u001b[1;33m(\u001b[0m\u001b[0mY_notOnly_test\u001b[0m\u001b[1;33m,\u001b[0m \u001b[0mpred_notOnly_test\u001b[0m\u001b[1;33m)\u001b[0m\u001b[1;33m\u001b[0m\u001b[1;33m\u001b[0m\u001b[0m\n\u001b[0;32m      5\u001b[0m \u001b[0mprecision_us_notOnly\u001b[0m \u001b[1;33m=\u001b[0m \u001b[0mmetrics\u001b[0m\u001b[1;33m.\u001b[0m\u001b[0mprecision_score\u001b[0m\u001b[1;33m(\u001b[0m\u001b[0mY_notOnly_test\u001b[0m\u001b[1;33m,\u001b[0m \u001b[0mpred_notOnly_test\u001b[0m\u001b[1;33m)\u001b[0m\u001b[1;33m\u001b[0m\u001b[1;33m\u001b[0m\u001b[0m\n",
      "\u001b[1;31mNameError\u001b[0m: name 'best_cv_notOnly' is not defined"
     ]
    }
   ],
   "source": [
    "# Step 3 - fit the best model to the test set and calculate prediction metrics\n",
    "pred_notOnly_test = models_notOnly[best_cv_notOnly].predict(X_notOnly_test)\n",
    "\n",
    "accuracy_us_notOnly = metrics.accuracy_score(Y_notOnly_test, pred_notOnly_test)\n",
    "precision_us_notOnly = metrics.precision_score(Y_notOnly_test, pred_notOnly_test)\n",
    "f1_score_us_notOnly = metrics.f1_score(Y_notOnly_test, pred_notOnly_test)\n",
    "auc_score_us_notOnly = metrics.roc_auc_score(Y_notOnly_test, pred_notOnly_test)\n",
    "confusion_us_notOnly = metrics.confusion_matrix(Y_notOnly_test, pred_notOnly_test)\n",
    "recall_us_notOnly = metrics.recall_score(Y_notOnly_test, pred_notOnly_test)\n",
    "\n",
    "print(\"Accuracy: {}\".format(round(accuracy_us_notOnly, 3)))\n",
    "print(\"Precision: {}\".format(round(precision_us_notOnly,3)))\n",
    "print(\"F1 score: {}\".format(round(f1_score_us_notOnly,3)))\n",
    "print(\"AUC score: {}\".format(round(auc_score_us_notOnly,3)))\n",
    "print(\"Recall score: {}\".format(round(recall_us_notOnly,3)))\n",
    "print(\"Confusion Matrix: \\n{}\".format(confusion_us_notOnly))"
   ]
  },
  {
   "cell_type": "code",
   "execution_count": 17,
   "metadata": {},
   "outputs": [
    {
     "ename": "NameError",
     "evalue": "name 'best_cv_notOnly' is not defined",
     "output_type": "error",
     "traceback": [
      "\u001b[1;31m---------------------------------------------------------------------------\u001b[0m",
      "\u001b[1;31mNameError\u001b[0m                                 Traceback (most recent call last)",
      "\u001b[1;32m<ipython-input-17-9fd6465b4cc3>\u001b[0m in \u001b[0;36m<module>\u001b[1;34m\u001b[0m\n\u001b[0;32m      1\u001b[0m \u001b[1;31m# Get the probabilities\u001b[0m\u001b[1;33m\u001b[0m\u001b[1;33m\u001b[0m\u001b[1;33m\u001b[0m\u001b[0m\n\u001b[1;32m----> 2\u001b[1;33m \u001b[0mus_notOnly_proba\u001b[0m \u001b[1;33m=\u001b[0m \u001b[0mmodels_notOnly\u001b[0m\u001b[1;33m[\u001b[0m\u001b[0mbest_cv_notOnly\u001b[0m\u001b[1;33m]\u001b[0m\u001b[1;33m.\u001b[0m\u001b[0mpredict_proba\u001b[0m\u001b[1;33m(\u001b[0m\u001b[0mX_notOnly_test\u001b[0m\u001b[1;33m)\u001b[0m\u001b[1;33m\u001b[0m\u001b[1;33m\u001b[0m\u001b[0m\n\u001b[0m\u001b[0;32m      3\u001b[0m \u001b[1;33m\u001b[0m\u001b[0m\n\u001b[0;32m      4\u001b[0m \u001b[1;31m# Combine the probabilites with the original data so we can tie it back to the customer\u001b[0m\u001b[1;33m\u001b[0m\u001b[1;33m\u001b[0m\u001b[1;33m\u001b[0m\u001b[0m\n\u001b[0;32m      5\u001b[0m \u001b[1;31m# the predict_proba resets the index to the row numbers but keeps the same order so we need to normalize them\u001b[0m\u001b[1;33m\u001b[0m\u001b[1;33m\u001b[0m\u001b[1;33m\u001b[0m\u001b[0m\n",
      "\u001b[1;31mNameError\u001b[0m: name 'best_cv_notOnly' is not defined"
     ]
    }
   ],
   "source": [
    "# Get the probabilities\n",
    "us_notOnly_proba = models_notOnly[best_cv_notOnly].predict_proba(X_notOnly_test)\n",
    "\n",
    "# Combine the probabilites with the original data so we can tie it back to the customer\n",
    "# the predict_proba resets the index to the row numbers but keeps the same order so we need to normalize them\n",
    "data_notOnly_test_reset = X_notOnly_test.reset_index()\n",
    "prob = pd.DataFrame(us_notOnly_proba, columns = ['Neg', 'Pos'])\n",
    "us_notOnly_prob_list = pd.merge(prob,data_notOnly_test_reset,how = 'inner', left_index = True, right_index = True)\n",
    "\n",
    "# # Decile list\n",
    "binx = [0,0.1,0.2,0.3,0.4,0.5,0.6,0.7,0.8,0.9,1.0]\n",
    "us_notOnly_leads = us_notOnly_prob_list.Pos.value_counts(bins = binx).sort_index(ascending = False)\n",
    "#print(us_notOnly_leads)"
   ]
  },
  {
   "cell_type": "markdown",
   "metadata": {},
   "source": [
    "### Comparison Table"
   ]
  },
  {
   "cell_type": "code",
   "execution_count": 18,
   "metadata": {},
   "outputs": [
    {
     "ename": "NameError",
     "evalue": "name 'accuracy_us_all' is not defined",
     "output_type": "error",
     "traceback": [
      "\u001b[1;31m---------------------------------------------------------------------------\u001b[0m",
      "\u001b[1;31mNameError\u001b[0m                                 Traceback (most recent call last)",
      "\u001b[1;32m<ipython-input-18-0588eb7b09f2>\u001b[0m in \u001b[0;36m<module>\u001b[1;34m\u001b[0m\n\u001b[0;32m      1\u001b[0m \u001b[1;31m# Comparison table for the error metrics based on the test set\u001b[0m\u001b[1;33m\u001b[0m\u001b[1;33m\u001b[0m\u001b[1;33m\u001b[0m\u001b[0m\n\u001b[0;32m      2\u001b[0m metric_table = pd.DataFrame(\n\u001b[1;32m----> 3\u001b[1;33m     {'US All': [accuracy_us_all, precision_us_all, f1_score_us_all, auc_score_us_all, recall_us_all],\n\u001b[0m\u001b[0;32m      4\u001b[0m      'US Cross Sell': [accuracy_us_notOnly, precision_us_notOnly, f1_score_us_notOnly, auc_score_us_notOnly, recall_us_notOnly]},\n\u001b[0;32m      5\u001b[0m      index = ['Accuracy', 'Precision','F1 Score','AUC Score','Recall'])\n",
      "\u001b[1;31mNameError\u001b[0m: name 'accuracy_us_all' is not defined"
     ]
    }
   ],
   "source": [
    "# Comparison table for the error metrics based on the test set\n",
    "metric_table = pd.DataFrame(\n",
    "    {'US All': [accuracy_us_all, precision_us_all, f1_score_us_all, auc_score_us_all, recall_us_all],\n",
    "     'US Cross Sell': [accuracy_us_notOnly, precision_us_notOnly, f1_score_us_notOnly, auc_score_us_notOnly, recall_us_notOnly]},\n",
    "     index = ['Accuracy', 'Precision','F1 Score','AUC Score','Recall'])\n",
    "\n",
    "metric_table"
   ]
  },
  {
   "cell_type": "code",
   "execution_count": 19,
   "metadata": {},
   "outputs": [
    {
     "ename": "NameError",
     "evalue": "name 'us_all_leads' is not defined",
     "output_type": "error",
     "traceback": [
      "\u001b[1;31m---------------------------------------------------------------------------\u001b[0m",
      "\u001b[1;31mNameError\u001b[0m                                 Traceback (most recent call last)",
      "\u001b[1;32m<ipython-input-19-cf64290f26e0>\u001b[0m in \u001b[0;36m<module>\u001b[1;34m\u001b[0m\n\u001b[0;32m      1\u001b[0m \u001b[1;31m# Comparison table for deciles\u001b[0m\u001b[1;33m\u001b[0m\u001b[1;33m\u001b[0m\u001b[1;33m\u001b[0m\u001b[0m\n\u001b[0;32m      2\u001b[0m leads_table = pd.DataFrame(\n\u001b[1;32m----> 3\u001b[1;33m     {'US All': us_all_leads,\n\u001b[0m\u001b[0;32m      4\u001b[0m      'US Cross Sell': us_notOnly_leads})\n\u001b[0;32m      5\u001b[0m \u001b[1;33m\u001b[0m\u001b[0m\n",
      "\u001b[1;31mNameError\u001b[0m: name 'us_all_leads' is not defined"
     ]
    }
   ],
   "source": [
    "# Comparison table for deciles\n",
    "leads_table = pd.DataFrame(\n",
    "    {'US All': us_all_leads,\n",
    "     'US Cross Sell': us_notOnly_leads})\n",
    "\n",
    "leads_table"
   ]
  },
  {
   "cell_type": "code",
   "execution_count": 20,
   "metadata": {},
   "outputs": [
    {
     "ename": "NameError",
     "evalue": "name 'us_all_coef' is not defined",
     "output_type": "error",
     "traceback": [
      "\u001b[1;31m---------------------------------------------------------------------------\u001b[0m",
      "\u001b[1;31mNameError\u001b[0m                                 Traceback (most recent call last)",
      "\u001b[1;32m<ipython-input-20-5401bf4ea605>\u001b[0m in \u001b[0;36m<module>\u001b[1;34m\u001b[0m\n\u001b[0;32m      1\u001b[0m \u001b[1;31m# Make the coefficient comparison table\u001b[0m\u001b[1;33m\u001b[0m\u001b[1;33m\u001b[0m\u001b[1;33m\u001b[0m\u001b[0m\n\u001b[0;32m      2\u001b[0m coefs_table = pd.DataFrame(\n\u001b[1;32m----> 3\u001b[1;33m     {'All Coef': us_all_coef.ravel().round(3),\n\u001b[0m\u001b[0;32m      4\u001b[0m      \u001b[1;34m'All Logit Coef'\u001b[0m\u001b[1;33m:\u001b[0m \u001b[0mlogit_all_coef\u001b[0m\u001b[1;33m.\u001b[0m\u001b[0mvalues\u001b[0m\u001b[1;33m.\u001b[0m\u001b[0mround\u001b[0m\u001b[1;33m(\u001b[0m\u001b[1;36m3\u001b[0m\u001b[1;33m)\u001b[0m\u001b[1;33m,\u001b[0m\u001b[1;33m\u001b[0m\u001b[1;33m\u001b[0m\u001b[0m\n\u001b[0;32m      5\u001b[0m      \u001b[1;34m'All SE'\u001b[0m\u001b[1;33m:\u001b[0m \u001b[0mlogit_all_se\u001b[0m\u001b[1;33m,\u001b[0m\u001b[1;33m\u001b[0m\u001b[1;33m\u001b[0m\u001b[0m\n",
      "\u001b[1;31mNameError\u001b[0m: name 'us_all_coef' is not defined"
     ]
    }
   ],
   "source": [
    "# Make the coefficient comparison table\n",
    "coefs_table = pd.DataFrame(\n",
    "    {'All Coef': us_all_coef.ravel().round(3),\n",
    "     'All Logit Coef': logit_all_coef.values.round(3),\n",
    "     'All SE': logit_all_se,\n",
    "     'All pval': logit_all_pvalues.round(4),\n",
    "     'CS Coef': us_notOnly_coef.ravel().round(3),\n",
    "     'CS Logit Coef': logit_notOnly_coef.values.round(3),\n",
    "     'CS SE': logit_notOnly_se,\n",
    "     'CS pval': logit_notOnly_pvalues.round(4)},\n",
    "    index = X_all_std.columns)\n",
    "\n",
    "# Add conditional column\n",
    "coefs_table['CS Sig'] = (coefs_table['CS pval'] < 0.075)\n",
    "coefs_table['All Sig'] =(coefs_table['All pval'] < 0.075)\n",
    "coefs_table['Sign Match'] =(np.sign(coefs_table['CS Coef']) == np.sign(coefs_table['All Coef']))\n",
    "coefs_table['Both Sig'] = ((coefs_table['All pval'] < 0.075) & (coefs_table['CS pval'] < 0.075))\n",
    "\n",
    "print(\"# of Significant Variables in All: {}\".format(coefs_table[(coefs_table[\"All Sig\"] == True)].count()[0]))\n",
    "print(\"# of Significant Variables in CS: {}\".format(coefs_table[(coefs_table[\"CS Sig\"] == True)].count()[0]))\n",
    "print(\"# of Significant Variables in All AND CS: {}\".format(coefs_table[(coefs_table[\"Both Sig\"] == True)].count()[0]))\n",
    "\n",
    "# Table that shows all variables where the significance differs between the two models\n",
    "coefs_table[(coefs_table[\"All Sig\"] != coefs_table['CS Sig'])]"
   ]
  },
  {
   "cell_type": "code",
   "execution_count": 21,
   "metadata": {},
   "outputs": [
    {
     "ename": "NameError",
     "evalue": "name 'coefs_table' is not defined",
     "output_type": "error",
     "traceback": [
      "\u001b[1;31m---------------------------------------------------------------------------\u001b[0m",
      "\u001b[1;31mNameError\u001b[0m                                 Traceback (most recent call last)",
      "\u001b[1;32m<ipython-input-21-abeb012a84b1>\u001b[0m in \u001b[0;36m<module>\u001b[1;34m\u001b[0m\n\u001b[0;32m      1\u001b[0m \u001b[1;31m# Table that shows all variables where it was significant in at least one model but the coefficient signs don't match\u001b[0m\u001b[1;33m\u001b[0m\u001b[1;33m\u001b[0m\u001b[1;33m\u001b[0m\u001b[0m\n\u001b[1;32m----> 2\u001b[1;33m \u001b[0mcoefs_table\u001b[0m\u001b[1;33m[\u001b[0m\u001b[1;33m(\u001b[0m\u001b[1;33m(\u001b[0m\u001b[0mcoefs_table\u001b[0m\u001b[1;33m[\u001b[0m\u001b[1;34m\"Sign Match\"\u001b[0m\u001b[1;33m]\u001b[0m \u001b[1;33m==\u001b[0m \u001b[1;32mFalse\u001b[0m\u001b[1;33m)\u001b[0m \u001b[1;33m&\u001b[0m \u001b[1;33m(\u001b[0m\u001b[1;33m(\u001b[0m\u001b[0mcoefs_table\u001b[0m\u001b[1;33m[\u001b[0m\u001b[1;34m\"All Sig\"\u001b[0m\u001b[1;33m]\u001b[0m \u001b[1;33m==\u001b[0m \u001b[1;32mTrue\u001b[0m\u001b[1;33m)\u001b[0m \u001b[1;33m|\u001b[0m \u001b[1;33m(\u001b[0m\u001b[0mcoefs_table\u001b[0m\u001b[1;33m[\u001b[0m\u001b[1;34m\"CS Sig\"\u001b[0m\u001b[1;33m]\u001b[0m \u001b[1;33m==\u001b[0m \u001b[1;32mTrue\u001b[0m \u001b[1;33m)\u001b[0m\u001b[1;33m)\u001b[0m\u001b[1;33m)\u001b[0m\u001b[1;33m]\u001b[0m\u001b[1;33m\u001b[0m\u001b[1;33m\u001b[0m\u001b[0m\n\u001b[0m",
      "\u001b[1;31mNameError\u001b[0m: name 'coefs_table' is not defined"
     ]
    }
   ],
   "source": [
    "# Table that shows all variables where it was significant in at least one model but the coefficient signs don't match\n",
    "coefs_table[((coefs_table[\"Sign Match\"] == False) & ((coefs_table[\"All Sig\"] == True) | (coefs_table[\"CS Sig\"] == True )))]"
   ]
  },
  {
   "cell_type": "markdown",
   "metadata": {},
   "source": [
    "## Decile and Lift"
   ]
  },
  {
   "cell_type": "markdown",
   "metadata": {},
   "source": [
    "#### Decile Function from Bill"
   ]
  },
  {
   "cell_type": "code",
   "execution_count": 22,
   "metadata": {},
   "outputs": [],
   "source": [
    "# Decile function from Bill that calculates deciles and lift\n",
    "def decile_df(preds, actuals, y_train):\n",
    "    deciles = pd.qcut(preds,q=10,labels=False)\n",
    "    preds_df = pd.DataFrame(preds.values, index=actuals.index, columns=['preds'])\n",
    "    preds_df['actuals'] = actuals.values\n",
    "    preds_df['decile'] = deciles\n",
    "    dec_df = preds_df.groupby('decile').agg(['min','max','mean','count'])\n",
    "    dec_df.index = range(10,0,-1)\n",
    "    dec_df.columns = ['_'.join(col).strip() for col in dec_df.columns.values]\n",
    "    dec_df2 = dec_df[['preds_min','preds_max','actuals_mean','preds_count']]\n",
    "    dec_df2.columns = ['min','max','avg','n']\n",
    "    baseline = y_train.mean() # actuals.mean()#[0]\n",
    "    dec_df2['lift'] = dec_df2['avg']/baseline\n",
    "    return dec_df2.sort_index(), preds_df"
   ]
  },
  {
   "cell_type": "markdown",
   "metadata": {},
   "source": [
    "### Cross Sell Mortgage Customers"
   ]
  },
  {
   "cell_type": "code",
   "execution_count": 23,
   "metadata": {},
   "outputs": [
    {
     "ename": "NameError",
     "evalue": "name 'us_notOnly_prob_list' is not defined",
     "output_type": "error",
     "traceback": [
      "\u001b[1;31m---------------------------------------------------------------------------\u001b[0m",
      "\u001b[1;31mNameError\u001b[0m                                 Traceback (most recent call last)",
      "\u001b[1;32m<ipython-input-23-5b58a9a6f48c>\u001b[0m in \u001b[0;36m<module>\u001b[1;34m\u001b[0m\n\u001b[0;32m      1\u001b[0m \u001b[1;31m# Get the list of probabilities\u001b[0m\u001b[1;33m\u001b[0m\u001b[1;33m\u001b[0m\u001b[1;33m\u001b[0m\u001b[0m\n\u001b[1;32m----> 2\u001b[1;33m \u001b[0mprobs_notOnly\u001b[0m \u001b[1;33m=\u001b[0m \u001b[0mus_notOnly_prob_list\u001b[0m\u001b[1;33m.\u001b[0m\u001b[0mset_index\u001b[0m\u001b[1;33m(\u001b[0m\u001b[1;34m'hkey'\u001b[0m\u001b[1;33m)\u001b[0m\u001b[1;33m[\u001b[0m\u001b[1;34m'Pos'\u001b[0m\u001b[1;33m]\u001b[0m\u001b[1;33m\u001b[0m\u001b[1;33m\u001b[0m\u001b[0m\n\u001b[0m\u001b[0;32m      3\u001b[0m \u001b[1;33m\u001b[0m\u001b[0m\n\u001b[0;32m      4\u001b[0m \u001b[1;31m# Get the actual values in the test set\u001b[0m\u001b[1;33m\u001b[0m\u001b[1;33m\u001b[0m\u001b[1;33m\u001b[0m\u001b[0m\n\u001b[0;32m      5\u001b[0m \u001b[0mactuals_notOnly\u001b[0m \u001b[1;33m=\u001b[0m \u001b[0mY_notOnly_test\u001b[0m\u001b[1;33m\u001b[0m\u001b[1;33m\u001b[0m\u001b[0m\n",
      "\u001b[1;31mNameError\u001b[0m: name 'us_notOnly_prob_list' is not defined"
     ]
    }
   ],
   "source": [
    "# Get the list of probabilities \n",
    "probs_notOnly = us_notOnly_prob_list.set_index('hkey')['Pos']\n",
    "\n",
    "# Get the actual values in the test set\n",
    "actuals_notOnly = Y_notOnly_test"
   ]
  },
  {
   "cell_type": "code",
   "execution_count": 24,
   "metadata": {},
   "outputs": [
    {
     "ename": "NameError",
     "evalue": "name 'probs_notOnly' is not defined",
     "output_type": "error",
     "traceback": [
      "\u001b[1;31m---------------------------------------------------------------------------\u001b[0m",
      "\u001b[1;31mNameError\u001b[0m                                 Traceback (most recent call last)",
      "\u001b[1;32m<ipython-input-24-22b6c84ef4cf>\u001b[0m in \u001b[0;36m<module>\u001b[1;34m\u001b[0m\n\u001b[0;32m      1\u001b[0m \u001b[1;31m# Checking the shape of the parameters for the decile function\u001b[0m\u001b[1;33m\u001b[0m\u001b[1;33m\u001b[0m\u001b[1;33m\u001b[0m\u001b[0m\n\u001b[1;32m----> 2\u001b[1;33m \u001b[0mprint\u001b[0m\u001b[1;33m(\u001b[0m\u001b[0mprobs_notOnly\u001b[0m\u001b[1;33m.\u001b[0m\u001b[0mshape\u001b[0m\u001b[1;33m,\u001b[0m\u001b[0mactuals_notOnly\u001b[0m\u001b[1;33m.\u001b[0m\u001b[0mshape\u001b[0m\u001b[1;33m,\u001b[0m\u001b[0mY_notOnly_train\u001b[0m\u001b[1;33m.\u001b[0m\u001b[0mshape\u001b[0m\u001b[1;33m)\u001b[0m\u001b[1;33m\u001b[0m\u001b[1;33m\u001b[0m\u001b[0m\n\u001b[0m",
      "\u001b[1;31mNameError\u001b[0m: name 'probs_notOnly' is not defined"
     ]
    }
   ],
   "source": [
    "# Checking the shape of the parameters for the decile function\n",
    "print(probs_notOnly.shape,actuals_notOnly.shape,Y_notOnly_train.shape)"
   ]
  },
  {
   "cell_type": "code",
   "execution_count": 25,
   "metadata": {},
   "outputs": [
    {
     "ename": "NameError",
     "evalue": "name 'probs_notOnly' is not defined",
     "output_type": "error",
     "traceback": [
      "\u001b[1;31m---------------------------------------------------------------------------\u001b[0m",
      "\u001b[1;31mNameError\u001b[0m                                 Traceback (most recent call last)",
      "\u001b[1;32m<ipython-input-25-0e52b6e01913>\u001b[0m in \u001b[0;36m<module>\u001b[1;34m\u001b[0m\n\u001b[0;32m      1\u001b[0m \u001b[1;31m# Calculate the deciles and lift\u001b[0m\u001b[1;33m\u001b[0m\u001b[1;33m\u001b[0m\u001b[1;33m\u001b[0m\u001b[0m\n\u001b[1;32m----> 2\u001b[1;33m \u001b[0mlr_dec_notOnly\u001b[0m\u001b[1;33m,\u001b[0m \u001b[0mlr_dec_by_idx_notOnly\u001b[0m \u001b[1;33m=\u001b[0m \u001b[0mdecile_df\u001b[0m\u001b[1;33m(\u001b[0m\u001b[0mprobs_notOnly\u001b[0m\u001b[1;33m,\u001b[0m \u001b[0mactuals_notOnly\u001b[0m\u001b[1;33m,\u001b[0m \u001b[0mY_notOnly_pretrain\u001b[0m\u001b[1;33m)\u001b[0m\u001b[1;33m\u001b[0m\u001b[1;33m\u001b[0m\u001b[0m\n\u001b[0m\u001b[0;32m      3\u001b[0m \u001b[0mlr_dec_notOnly\u001b[0m\u001b[1;33m\u001b[0m\u001b[1;33m\u001b[0m\u001b[0m\n",
      "\u001b[1;31mNameError\u001b[0m: name 'probs_notOnly' is not defined"
     ]
    }
   ],
   "source": [
    "# Calculate the deciles and lift\n",
    "lr_dec_notOnly, lr_dec_by_idx_notOnly = decile_df(probs_notOnly, actuals_notOnly, Y_notOnly_pretrain)\n",
    "lr_dec_notOnly"
   ]
  },
  {
   "cell_type": "markdown",
   "metadata": {},
   "source": [
    "### All Mortgage Customers"
   ]
  },
  {
   "cell_type": "code",
   "execution_count": 26,
   "metadata": {},
   "outputs": [
    {
     "ename": "NameError",
     "evalue": "name 'us_all_prob_list' is not defined",
     "output_type": "error",
     "traceback": [
      "\u001b[1;31m---------------------------------------------------------------------------\u001b[0m",
      "\u001b[1;31mNameError\u001b[0m                                 Traceback (most recent call last)",
      "\u001b[1;32m<ipython-input-26-e55c2843ab88>\u001b[0m in \u001b[0;36m<module>\u001b[1;34m\u001b[0m\n\u001b[0;32m      1\u001b[0m \u001b[1;31m# Get the list of probabilities\u001b[0m\u001b[1;33m\u001b[0m\u001b[1;33m\u001b[0m\u001b[1;33m\u001b[0m\u001b[0m\n\u001b[1;32m----> 2\u001b[1;33m \u001b[0mprobs_all\u001b[0m \u001b[1;33m=\u001b[0m \u001b[0mus_all_prob_list\u001b[0m\u001b[1;33m.\u001b[0m\u001b[0mset_index\u001b[0m\u001b[1;33m(\u001b[0m\u001b[1;34m'hkey'\u001b[0m\u001b[1;33m)\u001b[0m\u001b[1;33m[\u001b[0m\u001b[1;34m'Pos'\u001b[0m\u001b[1;33m]\u001b[0m\u001b[1;33m\u001b[0m\u001b[1;33m\u001b[0m\u001b[0m\n\u001b[0m\u001b[0;32m      3\u001b[0m \u001b[1;31m# Get the actual values in the test set\u001b[0m\u001b[1;33m\u001b[0m\u001b[1;33m\u001b[0m\u001b[1;33m\u001b[0m\u001b[0m\n\u001b[0;32m      4\u001b[0m \u001b[0mactuals_all\u001b[0m \u001b[1;33m=\u001b[0m \u001b[0mY_all_test\u001b[0m\u001b[1;33m\u001b[0m\u001b[1;33m\u001b[0m\u001b[0m\n",
      "\u001b[1;31mNameError\u001b[0m: name 'us_all_prob_list' is not defined"
     ]
    }
   ],
   "source": [
    "# Get the list of probabilities \n",
    "probs_all = us_all_prob_list.set_index('hkey')['Pos']\n",
    "# Get the actual values in the test set\n",
    "actuals_all = Y_all_test"
   ]
  },
  {
   "cell_type": "code",
   "execution_count": 27,
   "metadata": {},
   "outputs": [
    {
     "ename": "NameError",
     "evalue": "name 'probs_all' is not defined",
     "output_type": "error",
     "traceback": [
      "\u001b[1;31m---------------------------------------------------------------------------\u001b[0m",
      "\u001b[1;31mNameError\u001b[0m                                 Traceback (most recent call last)",
      "\u001b[1;32m<ipython-input-27-05edfe26a019>\u001b[0m in \u001b[0;36m<module>\u001b[1;34m\u001b[0m\n\u001b[0;32m      1\u001b[0m \u001b[1;31m# Checking the shape of the parameters for the decile function\u001b[0m\u001b[1;33m\u001b[0m\u001b[1;33m\u001b[0m\u001b[1;33m\u001b[0m\u001b[0m\n\u001b[1;32m----> 2\u001b[1;33m \u001b[0mprint\u001b[0m\u001b[1;33m(\u001b[0m\u001b[0mprobs_all\u001b[0m\u001b[1;33m.\u001b[0m\u001b[0mshape\u001b[0m\u001b[1;33m,\u001b[0m\u001b[0mactuals_all\u001b[0m\u001b[1;33m.\u001b[0m\u001b[0mshape\u001b[0m\u001b[1;33m,\u001b[0m\u001b[0mY_all_pretrain\u001b[0m\u001b[1;33m.\u001b[0m\u001b[0mshape\u001b[0m\u001b[1;33m)\u001b[0m\u001b[1;33m\u001b[0m\u001b[1;33m\u001b[0m\u001b[0m\n\u001b[0m",
      "\u001b[1;31mNameError\u001b[0m: name 'probs_all' is not defined"
     ]
    }
   ],
   "source": [
    "# Checking the shape of the parameters for the decile function\n",
    "print(probs_all.shape,actuals_all.shape,Y_all_pretrain.shape)"
   ]
  },
  {
   "cell_type": "code",
   "execution_count": 28,
   "metadata": {},
   "outputs": [
    {
     "ename": "NameError",
     "evalue": "name 'probs_all' is not defined",
     "output_type": "error",
     "traceback": [
      "\u001b[1;31m---------------------------------------------------------------------------\u001b[0m",
      "\u001b[1;31mNameError\u001b[0m                                 Traceback (most recent call last)",
      "\u001b[1;32m<ipython-input-28-50e53bcbec85>\u001b[0m in \u001b[0;36m<module>\u001b[1;34m\u001b[0m\n\u001b[0;32m      1\u001b[0m \u001b[1;31m# Calculate the deciles and lift\u001b[0m\u001b[1;33m\u001b[0m\u001b[1;33m\u001b[0m\u001b[1;33m\u001b[0m\u001b[0m\n\u001b[1;32m----> 2\u001b[1;33m \u001b[0mlr_dec_all\u001b[0m\u001b[1;33m,\u001b[0m \u001b[0mlr_dec_by_idx_all\u001b[0m \u001b[1;33m=\u001b[0m \u001b[0mdecile_df\u001b[0m\u001b[1;33m(\u001b[0m\u001b[0mprobs_all\u001b[0m\u001b[1;33m,\u001b[0m \u001b[0mactuals_all\u001b[0m\u001b[1;33m,\u001b[0m \u001b[0mY_all_pretrain\u001b[0m\u001b[1;33m)\u001b[0m\u001b[1;33m\u001b[0m\u001b[1;33m\u001b[0m\u001b[0m\n\u001b[0m\u001b[0;32m      3\u001b[0m \u001b[0mlr_dec_all\u001b[0m\u001b[1;33m\u001b[0m\u001b[1;33m\u001b[0m\u001b[0m\n",
      "\u001b[1;31mNameError\u001b[0m: name 'probs_all' is not defined"
     ]
    }
   ],
   "source": [
    "# Calculate the deciles and lift\n",
    "lr_dec_all, lr_dec_by_idx_all = decile_df(probs_all, actuals_all, Y_all_pretrain)\n",
    "lr_dec_all"
   ]
  },
  {
   "cell_type": "code",
   "execution_count": 29,
   "metadata": {},
   "outputs": [
    {
     "ename": "NameError",
     "evalue": "name 'lr_dec_by_idx_all' is not defined",
     "output_type": "error",
     "traceback": [
      "\u001b[1;31m---------------------------------------------------------------------------\u001b[0m",
      "\u001b[1;31mNameError\u001b[0m                                 Traceback (most recent call last)",
      "\u001b[1;32m<ipython-input-29-c572726ca463>\u001b[0m in \u001b[0;36m<module>\u001b[1;34m\u001b[0m\n\u001b[1;32m----> 1\u001b[1;33m \u001b[0mmtgDemoWithPreds\u001b[0m \u001b[1;33m=\u001b[0m \u001b[0mpd\u001b[0m\u001b[1;33m.\u001b[0m\u001b[0mmerge\u001b[0m\u001b[1;33m(\u001b[0m\u001b[0mlr_dec_by_idx_all\u001b[0m\u001b[1;33m,\u001b[0m\u001b[0mmtgDemo\u001b[0m\u001b[1;33m,\u001b[0m\u001b[0mhow\u001b[0m \u001b[1;33m=\u001b[0m \u001b[1;34m'inner'\u001b[0m\u001b[1;33m,\u001b[0m\u001b[0mleft_index\u001b[0m \u001b[1;33m=\u001b[0m \u001b[1;32mTrue\u001b[0m\u001b[1;33m,\u001b[0m \u001b[0mright_index\u001b[0m \u001b[1;33m=\u001b[0m \u001b[1;32mTrue\u001b[0m\u001b[1;33m)\u001b[0m\u001b[1;33m\u001b[0m\u001b[1;33m\u001b[0m\u001b[0m\n\u001b[0m\u001b[0;32m      2\u001b[0m \u001b[0mmtgDemoMinusOnlyWithPreds\u001b[0m \u001b[1;33m=\u001b[0m \u001b[0mpd\u001b[0m\u001b[1;33m.\u001b[0m\u001b[0mmerge\u001b[0m\u001b[1;33m(\u001b[0m\u001b[0mlr_dec_by_idx_notOnly\u001b[0m\u001b[1;33m,\u001b[0m\u001b[0mmtgDemoMinusOnly\u001b[0m\u001b[1;33m,\u001b[0m\u001b[0mhow\u001b[0m \u001b[1;33m=\u001b[0m \u001b[1;34m'inner'\u001b[0m\u001b[1;33m,\u001b[0m\u001b[0mleft_index\u001b[0m \u001b[1;33m=\u001b[0m \u001b[1;32mTrue\u001b[0m\u001b[1;33m,\u001b[0m \u001b[0mright_index\u001b[0m \u001b[1;33m=\u001b[0m \u001b[1;32mTrue\u001b[0m\u001b[1;33m)\u001b[0m\u001b[1;33m\u001b[0m\u001b[1;33m\u001b[0m\u001b[0m\n\u001b[0;32m      3\u001b[0m \u001b[0mmtgDemoWithPreds\u001b[0m\u001b[1;33m[\u001b[0m\u001b[1;34m\"Binary preds\"\u001b[0m\u001b[1;33m]\u001b[0m \u001b[1;33m=\u001b[0m \u001b[0mmtgDemoWithPreds\u001b[0m\u001b[1;33m[\u001b[0m\u001b[1;34m\"preds\"\u001b[0m\u001b[1;33m]\u001b[0m\u001b[1;33m.\u001b[0m\u001b[0mround\u001b[0m\u001b[1;33m(\u001b[0m\u001b[1;36m0\u001b[0m\u001b[1;33m)\u001b[0m\u001b[1;33m\u001b[0m\u001b[1;33m\u001b[0m\u001b[0m\n\u001b[0;32m      4\u001b[0m \u001b[0mmtgDemoMinusOnlyWithPreds\u001b[0m\u001b[1;33m[\u001b[0m\u001b[1;34m\"Binary preds\"\u001b[0m\u001b[1;33m]\u001b[0m \u001b[1;33m=\u001b[0m \u001b[0mmtgDemoMinusOnlyWithPreds\u001b[0m\u001b[1;33m[\u001b[0m\u001b[1;34m\"preds\"\u001b[0m\u001b[1;33m]\u001b[0m\u001b[1;33m.\u001b[0m\u001b[0mround\u001b[0m\u001b[1;33m(\u001b[0m\u001b[1;36m0\u001b[0m\u001b[1;33m)\u001b[0m\u001b[1;33m\u001b[0m\u001b[1;33m\u001b[0m\u001b[0m\n\u001b[0;32m      5\u001b[0m \u001b[1;31m#print(mtgDemoWithPreds[mtgDemoWithPreds[\"Total Non-mortgage Accounts\"] == 1][\"Binary preds\"].value_counts())\u001b[0m\u001b[1;33m\u001b[0m\u001b[1;33m\u001b[0m\u001b[1;33m\u001b[0m\u001b[0m\n",
      "\u001b[1;31mNameError\u001b[0m: name 'lr_dec_by_idx_all' is not defined"
     ]
    }
   ],
   "source": [
    "mtgDemoWithPreds = pd.merge(lr_dec_by_idx_all,mtgDemo,how = 'inner',left_index = True, right_index = True)\n",
    "mtgDemoMinusOnlyWithPreds = pd.merge(lr_dec_by_idx_notOnly,mtgDemoMinusOnly,how = 'inner',left_index = True, right_index = True)\n",
    "mtgDemoWithPreds[\"Binary preds\"] = mtgDemoWithPreds[\"preds\"].round(0)\n",
    "mtgDemoMinusOnlyWithPreds[\"Binary preds\"] = mtgDemoMinusOnlyWithPreds[\"preds\"].round(0)\n",
    "#print(mtgDemoWithPreds[mtgDemoWithPreds[\"Total Non-mortgage Accounts\"] == 1][\"Binary preds\"].value_counts())\n",
    "#print(mtgDemoWithPreds[mtgDemoWithPreds[\"Total Non-mortgage Accounts\"] == 1][\"actuals\"].value_counts())\n",
    "print(mtgDemoMinusOnlyWithPreds[mtgDemoMinusOnlyWithPreds[\"Total Non-mortgage Accounts\"] == 1][\"Binary preds\"].value_counts())\n",
    "print(mtgDemoMinusOnlyWithPreds[mtgDemoMinusOnlyWithPreds[\"Total Non-mortgage Accounts\"] == 1][\"actuals\"].value_counts())\n",
    "#print(mtgDemoWithPreds[mtgDemoWithPreds[\"Total Non-mortgage Accounts\"] > 1][\"Binary preds\"].value_counts())\n",
    "#print(mtgDemoWithPreds[mtgDemoWithPreds[\"Total Non-mortgage Accounts\"] > 1][\"actuals\"].value_counts())\n",
    "print(mtgDemoMinusOnlyWithPreds[mtgDemoMinusOnlyWithPreds[\"Total Non-mortgage Accounts\"] > 1][\"Binary preds\"].value_counts())\n",
    "print(mtgDemoMinusOnlyWithPreds[mtgDemoMinusOnlyWithPreds[\"Total Non-mortgage Accounts\"] > 1][\"actuals\"].value_counts())"
   ]
  },
  {
   "cell_type": "markdown",
   "metadata": {},
   "source": [
    "## ABC Table"
   ]
  },
  {
   "cell_type": "code",
   "execution_count": 30,
   "metadata": {},
   "outputs": [
    {
     "ename": "NameError",
     "evalue": "name 'lr_dec_by_idx_all' is not defined",
     "output_type": "error",
     "traceback": [
      "\u001b[1;31m---------------------------------------------------------------------------\u001b[0m",
      "\u001b[1;31mNameError\u001b[0m                                 Traceback (most recent call last)",
      "\u001b[1;32m<ipython-input-30-4d02074efbaa>\u001b[0m in \u001b[0;36m<module>\u001b[1;34m\u001b[0m\n\u001b[0;32m      1\u001b[0m \u001b[1;31m# Diagonals\u001b[0m\u001b[1;33m\u001b[0m\u001b[1;33m\u001b[0m\u001b[1;33m\u001b[0m\u001b[0m\n\u001b[0;32m      2\u001b[0m \u001b[1;31m# A leads\u001b[0m\u001b[1;33m\u001b[0m\u001b[1;33m\u001b[0m\u001b[1;33m\u001b[0m\u001b[0m\n\u001b[1;32m----> 3\u001b[1;33m \u001b[0mA_leads_all\u001b[0m \u001b[1;33m=\u001b[0m \u001b[0mlr_dec_by_idx_all\u001b[0m\u001b[1;33m[\u001b[0m\u001b[0mlr_dec_by_idx_all\u001b[0m\u001b[1;33m.\u001b[0m\u001b[0mdecile\u001b[0m \u001b[1;33m==\u001b[0m \u001b[1;36m9\u001b[0m\u001b[1;33m]\u001b[0m\u001b[1;33m\u001b[0m\u001b[1;33m\u001b[0m\u001b[0m\n\u001b[0m\u001b[0;32m      4\u001b[0m \u001b[0mA_leads_notOnly\u001b[0m \u001b[1;33m=\u001b[0m \u001b[0mlr_dec_by_idx_notOnly\u001b[0m\u001b[1;33m[\u001b[0m\u001b[0mlr_dec_by_idx_notOnly\u001b[0m\u001b[1;33m.\u001b[0m\u001b[0mdecile\u001b[0m \u001b[1;33m==\u001b[0m \u001b[1;36m9\u001b[0m\u001b[1;33m]\u001b[0m\u001b[1;33m\u001b[0m\u001b[1;33m\u001b[0m\u001b[0m\n\u001b[0;32m      5\u001b[0m \u001b[0mA_leads_both\u001b[0m \u001b[1;33m=\u001b[0m \u001b[0mpd\u001b[0m\u001b[1;33m.\u001b[0m\u001b[0mmerge\u001b[0m\u001b[1;33m(\u001b[0m\u001b[0mA_leads_all\u001b[0m\u001b[1;33m,\u001b[0m\u001b[0mA_leads_notOnly\u001b[0m\u001b[1;33m,\u001b[0m\u001b[0mhow\u001b[0m \u001b[1;33m=\u001b[0m \u001b[1;34m'inner'\u001b[0m\u001b[1;33m,\u001b[0m\u001b[0mleft_index\u001b[0m \u001b[1;33m=\u001b[0m \u001b[1;32mTrue\u001b[0m\u001b[1;33m,\u001b[0m \u001b[0mright_index\u001b[0m \u001b[1;33m=\u001b[0m \u001b[1;32mTrue\u001b[0m\u001b[1;33m)\u001b[0m\u001b[1;33m\u001b[0m\u001b[1;33m\u001b[0m\u001b[0m\n",
      "\u001b[1;31mNameError\u001b[0m: name 'lr_dec_by_idx_all' is not defined"
     ]
    }
   ],
   "source": [
    "# Diagonals\n",
    "# A leads\n",
    "A_leads_all = lr_dec_by_idx_all[lr_dec_by_idx_all.decile == 9]\n",
    "A_leads_notOnly = lr_dec_by_idx_notOnly[lr_dec_by_idx_notOnly.decile == 9]\n",
    "A_leads_both = pd.merge(A_leads_all,A_leads_notOnly,how = 'inner',left_index = True, right_index = True)\n",
    "\n",
    "# B leads\n",
    "B_leads_all = lr_dec_by_idx_all[lr_dec_by_idx_all.decile == 8]\n",
    "B_leads_notOnly = lr_dec_by_idx_notOnly[lr_dec_by_idx_notOnly.decile == 8]\n",
    "B_leads_both = pd.merge(B_leads_all,B_leads_notOnly,how = 'inner',left_index = True, right_index = True)\n",
    "\n",
    "# C leads\n",
    "C_leads_all = lr_dec_by_idx_all[lr_dec_by_idx_all.decile == 7]\n",
    "C_leads_notOnly = lr_dec_by_idx_notOnly[lr_dec_by_idx_notOnly.decile == 7]\n",
    "C_leads_both = pd.merge(C_leads_all,C_leads_notOnly,how = 'inner',left_index = True, right_index = True)\n",
    "\n",
    "# No leads\n",
    "no_leads_all = lr_dec_by_idx_all[(lr_dec_by_idx_all.decile != 7) & (lr_dec_by_idx_all.decile != 8) & (lr_dec_by_idx_all.decile != 9)]\n",
    "no_leads_notOnly = lr_dec_by_idx_notOnly[(lr_dec_by_idx_notOnly.decile != 7) & (lr_dec_by_idx_notOnly.decile != 8) & (lr_dec_by_idx_notOnly.decile != 9)]\n",
    "no_leads_both = pd.merge(no_leads_all,no_leads_notOnly,how = 'inner',left_index = True, right_index = True)\n",
    "\n",
    "# Off Diagonals\n",
    "A_all_B_notOnly = pd.merge(A_leads_all,B_leads_notOnly,how = 'inner',left_index = True, right_index = True)\n",
    "B_all_A_notOnly = pd.merge(B_leads_all,A_leads_notOnly,how = 'inner',left_index = True, right_index = True)\n",
    "A_all_C_notOnly = pd.merge(A_leads_all,C_leads_notOnly,how = 'inner',left_index = True, right_index = True)\n",
    "C_all_A_notOnly = pd.merge(C_leads_all,A_leads_notOnly,how = 'inner',left_index = True, right_index = True)\n",
    "B_all_C_notOnly = pd.merge(B_leads_all,C_leads_notOnly,how = 'inner',left_index = True, right_index = True)\n",
    "C_all_B_notOnly = pd.merge(C_leads_all,B_leads_notOnly,how = 'inner',left_index = True, right_index = True)\n",
    "no_all_A_notOnly = pd.merge(no_leads_all,A_leads_notOnly,how = 'inner',left_index = True, right_index = True)\n",
    "no_all_B_notOnly = pd.merge(no_leads_all,B_leads_notOnly,how = 'inner',left_index = True, right_index = True)\n",
    "no_all_C_notOnly = pd.merge(no_leads_all,C_leads_notOnly,how = 'inner',left_index = True, right_index = True)\n",
    "A_all_no_notOnly = pd.merge(A_leads_all,no_leads_notOnly,how = 'inner',left_index = True, right_index = True)\n",
    "B_all_no_notOnly = pd.merge(B_leads_all,no_leads_notOnly,how = 'inner',left_index = True, right_index = True)\n",
    "C_all_no_notOnly = pd.merge(C_leads_all,no_leads_notOnly,how = 'inner',left_index = True, right_index = True)\n",
    "\n",
    "pd.DataFrame({'Cross Sell A': [A_leads_both.count()[0],B_all_A_notOnly.count()[0],C_all_A_notOnly.count()[0],no_all_A_notOnly.count()[0]],\n",
    "             'Cross Sell B': [A_all_B_notOnly.count()[0],B_leads_both.count()[0],C_all_B_notOnly.count()[0],no_all_B_notOnly.count()[0]],\n",
    "             'Cross Sell C': [A_all_C_notOnly.count()[0],B_all_C_notOnly.count()[0],C_leads_both.count()[0],no_all_C_notOnly.count()[0]],\n",
    "             'Cross Sell DQ': [A_all_no_notOnly.count()[0],B_all_no_notOnly.count()[0],C_all_no_notOnly.count()[0],no_leads_both.count()[0]]},\n",
    "             index = ['All A','All B','All C','All DQ'])"
   ]
  },
  {
   "cell_type": "code",
   "execution_count": 31,
   "metadata": {},
   "outputs": [
    {
     "ename": "NameError",
     "evalue": "name 'A_leads_both' is not defined",
     "output_type": "error",
     "traceback": [
      "\u001b[1;31m---------------------------------------------------------------------------\u001b[0m",
      "\u001b[1;31mNameError\u001b[0m                                 Traceback (most recent call last)",
      "\u001b[1;32m<ipython-input-31-ac88c0fc1646>\u001b[0m in \u001b[0;36m<module>\u001b[1;34m\u001b[0m\n\u001b[1;32m----> 1\u001b[1;33m pd.DataFrame({'Cross Sell A': [A_leads_both.sum()[1],B_all_A_notOnly.sum()[1],C_all_A_notOnly.sum()[1],no_all_A_notOnly.sum()[1]],\n\u001b[0m\u001b[0;32m      2\u001b[0m              \u001b[1;34m'Cross Sell B'\u001b[0m\u001b[1;33m:\u001b[0m \u001b[1;33m[\u001b[0m\u001b[0mA_all_B_notOnly\u001b[0m\u001b[1;33m.\u001b[0m\u001b[0msum\u001b[0m\u001b[1;33m(\u001b[0m\u001b[1;33m)\u001b[0m\u001b[1;33m[\u001b[0m\u001b[1;36m1\u001b[0m\u001b[1;33m]\u001b[0m\u001b[1;33m,\u001b[0m\u001b[0mB_leads_both\u001b[0m\u001b[1;33m.\u001b[0m\u001b[0msum\u001b[0m\u001b[1;33m(\u001b[0m\u001b[1;33m)\u001b[0m\u001b[1;33m[\u001b[0m\u001b[1;36m1\u001b[0m\u001b[1;33m]\u001b[0m\u001b[1;33m,\u001b[0m\u001b[0mC_all_B_notOnly\u001b[0m\u001b[1;33m.\u001b[0m\u001b[0msum\u001b[0m\u001b[1;33m(\u001b[0m\u001b[1;33m)\u001b[0m\u001b[1;33m[\u001b[0m\u001b[1;36m1\u001b[0m\u001b[1;33m]\u001b[0m\u001b[1;33m,\u001b[0m\u001b[0mno_all_B_notOnly\u001b[0m\u001b[1;33m.\u001b[0m\u001b[0msum\u001b[0m\u001b[1;33m(\u001b[0m\u001b[1;33m)\u001b[0m\u001b[1;33m[\u001b[0m\u001b[1;36m1\u001b[0m\u001b[1;33m]\u001b[0m\u001b[1;33m]\u001b[0m\u001b[1;33m,\u001b[0m\u001b[1;33m\u001b[0m\u001b[1;33m\u001b[0m\u001b[0m\n\u001b[0;32m      3\u001b[0m              \u001b[1;34m'Cross Sell C'\u001b[0m\u001b[1;33m:\u001b[0m \u001b[1;33m[\u001b[0m\u001b[0mA_all_C_notOnly\u001b[0m\u001b[1;33m.\u001b[0m\u001b[0msum\u001b[0m\u001b[1;33m(\u001b[0m\u001b[1;33m)\u001b[0m\u001b[1;33m[\u001b[0m\u001b[1;36m1\u001b[0m\u001b[1;33m]\u001b[0m\u001b[1;33m,\u001b[0m\u001b[0mB_all_C_notOnly\u001b[0m\u001b[1;33m.\u001b[0m\u001b[0msum\u001b[0m\u001b[1;33m(\u001b[0m\u001b[1;33m)\u001b[0m\u001b[1;33m[\u001b[0m\u001b[1;36m1\u001b[0m\u001b[1;33m]\u001b[0m\u001b[1;33m,\u001b[0m\u001b[0mC_leads_both\u001b[0m\u001b[1;33m.\u001b[0m\u001b[0msum\u001b[0m\u001b[1;33m(\u001b[0m\u001b[1;33m)\u001b[0m\u001b[1;33m[\u001b[0m\u001b[1;36m1\u001b[0m\u001b[1;33m]\u001b[0m\u001b[1;33m,\u001b[0m\u001b[0mno_all_C_notOnly\u001b[0m\u001b[1;33m.\u001b[0m\u001b[0msum\u001b[0m\u001b[1;33m(\u001b[0m\u001b[1;33m)\u001b[0m\u001b[1;33m[\u001b[0m\u001b[1;36m1\u001b[0m\u001b[1;33m]\u001b[0m\u001b[1;33m]\u001b[0m\u001b[1;33m,\u001b[0m\u001b[1;33m\u001b[0m\u001b[1;33m\u001b[0m\u001b[0m\n\u001b[0;32m      4\u001b[0m              'Cross Sell DQ': [A_all_no_notOnly.sum()[1],B_all_no_notOnly.sum()[1],C_all_no_notOnly.sum()[1],no_leads_both.sum()[1]]},\n\u001b[0;32m      5\u001b[0m              index = ['All A','All B','All C','All DQ'])\n",
      "\u001b[1;31mNameError\u001b[0m: name 'A_leads_both' is not defined"
     ]
    }
   ],
   "source": [
    "pd.DataFrame({'Cross Sell A': [A_leads_both.sum()[1],B_all_A_notOnly.sum()[1],C_all_A_notOnly.sum()[1],no_all_A_notOnly.sum()[1]],\n",
    "             'Cross Sell B': [A_all_B_notOnly.sum()[1],B_leads_both.sum()[1],C_all_B_notOnly.sum()[1],no_all_B_notOnly.sum()[1]],\n",
    "             'Cross Sell C': [A_all_C_notOnly.sum()[1],B_all_C_notOnly.sum()[1],C_leads_both.sum()[1],no_all_C_notOnly.sum()[1]],\n",
    "             'Cross Sell DQ': [A_all_no_notOnly.sum()[1],B_all_no_notOnly.sum()[1],C_all_no_notOnly.sum()[1],no_leads_both.sum()[1]]},\n",
    "             index = ['All A','All B','All C','All DQ'])"
   ]
  },
  {
   "cell_type": "markdown",
   "metadata": {},
   "source": [
    "## Off Diagonal Confusion Matrices"
   ]
  },
  {
   "cell_type": "code",
   "execution_count": 32,
   "metadata": {},
   "outputs": [
    {
     "ename": "NameError",
     "evalue": "name 'B_all_A_notOnly' is not defined",
     "output_type": "error",
     "traceback": [
      "\u001b[1;31m---------------------------------------------------------------------------\u001b[0m",
      "\u001b[1;31mNameError\u001b[0m                                 Traceback (most recent call last)",
      "\u001b[1;32m<ipython-input-32-c1d06bba843c>\u001b[0m in \u001b[0;36m<module>\u001b[1;34m\u001b[0m\n\u001b[0;32m      1\u001b[0m \u001b[1;31m# not the most beautiful thing in the world but it gets the job done\u001b[0m\u001b[1;33m\u001b[0m\u001b[1;33m\u001b[0m\u001b[1;33m\u001b[0m\u001b[0m\n\u001b[1;32m----> 2\u001b[1;33m \u001b[0mprint\u001b[0m\u001b[1;33m(\u001b[0m\u001b[1;34m\"All B, Cross Sell A \\n{}\"\u001b[0m\u001b[1;33m.\u001b[0m\u001b[0mformat\u001b[0m\u001b[1;33m(\u001b[0m\u001b[0mmetrics\u001b[0m\u001b[1;33m.\u001b[0m\u001b[0mconfusion_matrix\u001b[0m\u001b[1;33m(\u001b[0m\u001b[0mB_all_A_notOnly\u001b[0m\u001b[1;33m[\u001b[0m\u001b[1;34m'actuals_x'\u001b[0m\u001b[1;33m]\u001b[0m\u001b[1;33m,\u001b[0m\u001b[0mB_all_A_notOnly\u001b[0m\u001b[1;33m[\u001b[0m\u001b[1;34m'preds_x'\u001b[0m\u001b[1;33m]\u001b[0m\u001b[1;33m.\u001b[0m\u001b[0mround\u001b[0m\u001b[1;33m(\u001b[0m\u001b[1;36m0\u001b[0m\u001b[1;33m)\u001b[0m\u001b[1;33m)\u001b[0m\u001b[1;33m)\u001b[0m\u001b[1;33m)\u001b[0m\u001b[1;33m\u001b[0m\u001b[1;33m\u001b[0m\u001b[0m\n\u001b[0m\u001b[0;32m      3\u001b[0m \u001b[0mprint\u001b[0m\u001b[1;33m(\u001b[0m\u001b[1;34m\"All C, Cross Sell B \\n{}\"\u001b[0m\u001b[1;33m.\u001b[0m\u001b[0mformat\u001b[0m\u001b[1;33m(\u001b[0m\u001b[0mmetrics\u001b[0m\u001b[1;33m.\u001b[0m\u001b[0mconfusion_matrix\u001b[0m\u001b[1;33m(\u001b[0m\u001b[0mC_all_B_notOnly\u001b[0m\u001b[1;33m[\u001b[0m\u001b[1;34m'actuals_y'\u001b[0m\u001b[1;33m]\u001b[0m\u001b[1;33m,\u001b[0m\u001b[0mC_all_B_notOnly\u001b[0m\u001b[1;33m[\u001b[0m\u001b[1;34m'preds_y'\u001b[0m\u001b[1;33m]\u001b[0m\u001b[1;33m.\u001b[0m\u001b[0mround\u001b[0m\u001b[1;33m(\u001b[0m\u001b[1;36m0\u001b[0m\u001b[1;33m)\u001b[0m\u001b[1;33m)\u001b[0m\u001b[1;33m)\u001b[0m\u001b[1;33m)\u001b[0m\u001b[1;33m\u001b[0m\u001b[1;33m\u001b[0m\u001b[0m\n\u001b[0;32m      4\u001b[0m \u001b[0mprint\u001b[0m\u001b[1;33m(\u001b[0m\u001b[1;34m\"All A, Cross Sell C \\n{}\"\u001b[0m\u001b[1;33m.\u001b[0m\u001b[0mformat\u001b[0m\u001b[1;33m(\u001b[0m\u001b[0mmetrics\u001b[0m\u001b[1;33m.\u001b[0m\u001b[0mconfusion_matrix\u001b[0m\u001b[1;33m(\u001b[0m\u001b[0mA_all_C_notOnly\u001b[0m\u001b[1;33m[\u001b[0m\u001b[1;34m'actuals_y'\u001b[0m\u001b[1;33m]\u001b[0m\u001b[1;33m,\u001b[0m\u001b[0mA_all_C_notOnly\u001b[0m\u001b[1;33m[\u001b[0m\u001b[1;34m'preds_y'\u001b[0m\u001b[1;33m]\u001b[0m\u001b[1;33m.\u001b[0m\u001b[0mround\u001b[0m\u001b[1;33m(\u001b[0m\u001b[1;36m0\u001b[0m\u001b[1;33m)\u001b[0m\u001b[1;33m)\u001b[0m\u001b[1;33m)\u001b[0m\u001b[1;33m)\u001b[0m\u001b[1;33m\u001b[0m\u001b[1;33m\u001b[0m\u001b[0m\n\u001b[0;32m      5\u001b[0m \u001b[0mprint\u001b[0m\u001b[1;33m(\u001b[0m\u001b[1;34m\"All C, Cross Sell A \\n{}\"\u001b[0m\u001b[1;33m.\u001b[0m\u001b[0mformat\u001b[0m\u001b[1;33m(\u001b[0m\u001b[0mmetrics\u001b[0m\u001b[1;33m.\u001b[0m\u001b[0mconfusion_matrix\u001b[0m\u001b[1;33m(\u001b[0m\u001b[0mC_all_A_notOnly\u001b[0m\u001b[1;33m[\u001b[0m\u001b[1;34m'actuals_y'\u001b[0m\u001b[1;33m]\u001b[0m\u001b[1;33m,\u001b[0m\u001b[0mC_all_A_notOnly\u001b[0m\u001b[1;33m[\u001b[0m\u001b[1;34m'preds_y'\u001b[0m\u001b[1;33m]\u001b[0m\u001b[1;33m.\u001b[0m\u001b[0mround\u001b[0m\u001b[1;33m(\u001b[0m\u001b[1;36m0\u001b[0m\u001b[1;33m)\u001b[0m\u001b[1;33m)\u001b[0m\u001b[1;33m)\u001b[0m\u001b[1;33m)\u001b[0m\u001b[1;33m\u001b[0m\u001b[1;33m\u001b[0m\u001b[0m\n",
      "\u001b[1;31mNameError\u001b[0m: name 'B_all_A_notOnly' is not defined"
     ]
    }
   ],
   "source": [
    "# not the most beautiful thing in the world but it gets the job done\n",
    "print(\"All B, Cross Sell A \\n{}\".format(metrics.confusion_matrix(B_all_A_notOnly['actuals_x'],B_all_A_notOnly['preds_x'].round(0))))\n",
    "print(\"All C, Cross Sell B \\n{}\".format(metrics.confusion_matrix(C_all_B_notOnly['actuals_y'],C_all_B_notOnly['preds_y'].round(0))))\n",
    "print(\"All A, Cross Sell C \\n{}\".format(metrics.confusion_matrix(A_all_C_notOnly['actuals_y'],A_all_C_notOnly['preds_y'].round(0))))\n",
    "print(\"All C, Cross Sell A \\n{}\".format(metrics.confusion_matrix(C_all_A_notOnly['actuals_y'],C_all_A_notOnly['preds_y'].round(0))))\n",
    "print(\"All DQ, Cross Sell A \\n{}\".format(metrics.confusion_matrix(no_all_A_notOnly['actuals_y'],no_all_A_notOnly['preds_y'].round(0))))\n",
    "print(\"All DQ, Cross Sell B \\n{}\".format(metrics.confusion_matrix(no_all_B_notOnly['actuals_y'],no_all_B_notOnly['preds_y'].round(0))))\n",
    "print(\"All DQ, Cross Sell C \\n{}\".format(metrics.confusion_matrix(no_all_C_notOnly['actuals_y'],no_all_C_notOnly['preds_y'].round(0))))\n",
    "print(\"All A, Cross Sell B \\n{}\".format(metrics.confusion_matrix(A_all_B_notOnly['actuals_y'],A_all_B_notOnly['preds_y'].round(0))))\n",
    "print(\"All B, Cross Sell C \\n{}\".format(metrics.confusion_matrix(B_all_C_notOnly['actuals_y'],B_all_C_notOnly['preds_y'].round(0))))\n",
    "print(\"All A, Cross Sell DQ \\n{}\".format(metrics.confusion_matrix(A_all_no_notOnly['actuals_y'],A_all_no_notOnly['preds_y'].round(0))))\n",
    "print(\"All B, Cross Sell DQ \\n{}\".format(metrics.confusion_matrix(B_all_no_notOnly['actuals_y'],B_all_no_notOnly['preds_y'].round(0))))\n",
    "print(\"All C, Cross Sell DQ \\n{}\".format(metrics.confusion_matrix(C_all_no_notOnly['actuals_y'],C_all_no_notOnly['preds_y'].round(0))))"
   ]
  },
  {
   "cell_type": "code",
   "execution_count": null,
   "metadata": {},
   "outputs": [],
   "source": []
  },
  {
   "cell_type": "code",
   "execution_count": null,
   "metadata": {},
   "outputs": [],
   "source": []
  },
  {
   "cell_type": "code",
   "execution_count": null,
   "metadata": {},
   "outputs": [],
   "source": []
  },
  {
   "cell_type": "code",
   "execution_count": null,
   "metadata": {},
   "outputs": [],
   "source": []
  }
 ],
 "metadata": {
  "kernelspec": {
   "display_name": "Python 3",
   "language": "python",
   "name": "python3"
  },
  "language_info": {
   "codemirror_mode": {
    "name": "ipython",
    "version": 3
   },
   "file_extension": ".py",
   "mimetype": "text/x-python",
   "name": "python",
   "nbconvert_exporter": "python",
   "pygments_lexer": "ipython3",
   "version": "3.7.9"
  }
 },
 "nbformat": 4,
 "nbformat_minor": 4
}
