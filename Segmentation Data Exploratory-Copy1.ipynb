{
 "cells": [
  {
   "cell_type": "markdown",
   "metadata": {},
   "source": [
    "## Household Data Exploratory"
   ]
  },
  {
   "cell_type": "markdown",
   "metadata": {},
   "source": [
    "### Package Import"
   ]
  },
  {
   "cell_type": "code",
   "execution_count": 1,
   "metadata": {},
   "outputs": [],
   "source": [
    "import pandas as pd\n",
    "import matplotlib.pyplot as plt\n",
    "import seaborn as sns\n",
    "import numpy as np\n",
    "%matplotlib inline\n",
    "\n",
    "pd.options.mode.chained_assignment = None # gets rid of chaining warning\n",
    "\n",
    "pd.set_option('max_rows', 150)\n",
    "pd.set_option('max_columns', 100)"
   ]
  },
  {
   "cell_type": "markdown",
   "metadata": {},
   "source": [
    "### Data Pull"
   ]
  },
  {
   "cell_type": "code",
   "execution_count": 2,
   "metadata": {},
   "outputs": [
    {
     "ename": "TypeError",
     "evalue": "read_csv() missing 1 required positional argument: 'filepath_or_buffer'",
     "output_type": "error",
     "traceback": [
      "\u001b[1;31m---------------------------------------------------------------------------\u001b[0m",
      "\u001b[1;31mTypeError\u001b[0m                                 Traceback (most recent call last)",
      "\u001b[1;32m<ipython-input-2-b5c3d03cf5a0>\u001b[0m in \u001b[0;36m<module>\u001b[1;34m\u001b[0m\n\u001b[0;32m      1\u001b[0m \u001b[1;31m# data removed for privacy reasons\u001b[0m\u001b[1;33m\u001b[0m\u001b[1;33m\u001b[0m\u001b[1;33m\u001b[0m\u001b[0m\n\u001b[1;32m----> 2\u001b[1;33m \u001b[0mdf\u001b[0m \u001b[1;33m=\u001b[0m \u001b[0mpd\u001b[0m\u001b[1;33m.\u001b[0m\u001b[0mread_csv\u001b[0m\u001b[1;33m(\u001b[0m\u001b[1;33m)\u001b[0m\u001b[1;33m\u001b[0m\u001b[1;33m\u001b[0m\u001b[0m\n\u001b[0m",
      "\u001b[1;31mTypeError\u001b[0m: read_csv() missing 1 required positional argument: 'filepath_or_buffer'"
     ]
    }
   ],
   "source": [
    "# data removed for privacy reasons\n",
    "df = pd.read_csv()"
   ]
  },
  {
   "cell_type": "code",
   "execution_count": null,
   "metadata": {},
   "outputs": [],
   "source": [
    "df.shape"
   ]
  },
  {
   "cell_type": "code",
   "execution_count": null,
   "metadata": {},
   "outputs": [],
   "source": [
    "df.head()"
   ]
  },
  {
   "cell_type": "markdown",
   "metadata": {},
   "source": [
    "## Data Exploration"
   ]
  },
  {
   "cell_type": "code",
   "execution_count": null,
   "metadata": {},
   "outputs": [],
   "source": [
    "df.describe()"
   ]
  },
  {
   "cell_type": "code",
   "execution_count": null,
   "metadata": {},
   "outputs": [],
   "source": [
    "f, axes = plt.subplots(2,3,figsize=(18,12))\n",
    "# Variables removed for privacy reasons\n",
    "online_vars_list = []\n",
    "\n",
    "index = 0\n",
    "for i in range(2):\n",
    "    for j in range (3):\n",
    "        if index < 5:\n",
    "            axes[i][j].hist(df[online_vars_list[index]])\n",
    "            axes[i][j].set_title(f'{online_vars_list[index]} histogram below')\n",
    "            index += 1"
   ]
  },
  {
   "cell_type": "code",
   "execution_count": null,
   "metadata": {},
   "outputs": [],
   "source": [
    "# Function to graph categorical variable distributions\n",
    "def cat_bar(var, i, j):\n",
    "    # Want distinct values on x-axis, and distinct value counts on y-axis\n",
    "    axes[i][j].bar(df[var].value_counts().index, df[var].value_counts(), color = \"maroon\", edgecolor = \"orange\")\n",
    "    axes[i][j].set_title(f'{var} distribution below')"
   ]
  },
  {
   "cell_type": "code",
   "execution_count": null,
   "metadata": {},
   "outputs": [],
   "source": [
    "f, axes = plt.subplots(4,2,figsize=(18,12))\n",
    "# Variables removed for privacy reasons\n",
    "cat_vars_list = []\n",
    "\n",
    "# Loop based on the fact that we have 8 categorical variables (4 and 2)\n",
    "index = 0\n",
    "for i in range(4):\n",
    "    for j in range (2):\n",
    "        cat_bar(cat_vars_list[index], i, j)\n",
    "        index += 1   \n",
    "        "
   ]
  },
  {
   "cell_type": "code",
   "execution_count": null,
   "metadata": {},
   "outputs": [],
   "source": [
    "# Fee distributions\n",
    "\n",
    "f, axes = plt.subplots(4,3,figsize=(15,12))\n",
    "# Variables removed for privacy reasons\n",
    "fee_vars_list = []\n",
    "\n",
    "# Loop based on the fact that we have 8 categorical variables (4 and 4)\n",
    "index = 0\n",
    "for i in range(4):\n",
    "    for j in range (3):\n",
    "        axes[i][j].hist(df[fee_vars_list[index]])\n",
    "        index += 1\n"
   ]
  },
  {
   "cell_type": "markdown",
   "metadata": {},
   "source": [
    "## Missing Values"
   ]
  },
  {
   "cell_type": "code",
   "execution_count": null,
   "metadata": {},
   "outputs": [],
   "source": [
    "# Fill the na's in the continous variables\n",
    "# Variables removed for privacy reasons\n",
    "for i in df.loc[:,].columns:\n",
    "    df[i] = df[i].fillna(0)"
   ]
  },
  {
   "cell_type": "code",
   "execution_count": null,
   "metadata": {},
   "outputs": [],
   "source": [
    "for c in df.columns:\n",
    "    if df[c].isna().sum() > 0:\n",
    "        print(\"---- %s ---\" % c)\n",
    "        print(df[c].isna().sum())"
   ]
  }
 ],
 "metadata": {
  "kernelspec": {
   "display_name": "Python [conda env:fnb] *",
   "language": "python",
   "name": "conda-env-fnb-py"
  },
  "language_info": {
   "codemirror_mode": {
    "name": "ipython",
    "version": 3
   },
   "file_extension": ".py",
   "mimetype": "text/x-python",
   "name": "python",
   "nbconvert_exporter": "python",
   "pygments_lexer": "ipython3",
   "version": "3.7.9"
  }
 },
 "nbformat": 4,
 "nbformat_minor": 4
}
