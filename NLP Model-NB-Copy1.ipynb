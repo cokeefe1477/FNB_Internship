{
 "cells": [
  {
   "cell_type": "markdown",
   "metadata": {},
   "source": [
    "# NLP Occupation Model"
   ]
  },
  {
   "cell_type": "code",
   "execution_count": 1,
   "metadata": {},
   "outputs": [],
   "source": [
    "from sklearn.feature_extraction.text import TfidfVectorizer\n",
    "from sklearn.cluster import KMeans\n",
    "from sklearn.cluster import MiniBatchKMeans\n",
    "from sklearn.cluster import MeanShift\n",
    "import numpy as np\n",
    "import pandas as pd\n",
    "import random as rand\n",
    "\n",
    "import matplotlib.pyplot as plt\n",
    "import pandas as pd\n",
    "import re\n",
    "import nltk\n",
    "from nltk.corpus import stopwords\n",
    "from nltk.stem.porter import PorterStemmer\n",
    "from sklearn.feature_extraction.text import CountVectorizer\n",
    "from sklearn.feature_extraction.text import HashingVectorizer\n",
    "from sklearn.model_selection import train_test_split\n",
    "from sklearn.naive_bayes import GaussianNB\n",
    "from sklearn.metrics import confusion_matrix\n",
    "from sklearn.tree import DecisionTreeClassifier\n",
    "from sklearn.ensemble import RandomForestClassifier\n",
    "\n",
    "from sklearn import metrics"
   ]
  },
  {
   "cell_type": "code",
   "execution_count": 2,
   "metadata": {},
   "outputs": [
    {
     "ename": "SyntaxError",
     "evalue": "invalid syntax (<ipython-input-2-a0512dc40322>, line 2)",
     "output_type": "error",
     "traceback": [
      "\u001b[1;36m  File \u001b[1;32m\"<ipython-input-2-a0512dc40322>\"\u001b[1;36m, line \u001b[1;32m2\u001b[0m\n\u001b[1;33m    nlpData = pd.read_csv(, index_col = 'Unnamed: 0')\u001b[0m\n\u001b[1;37m                          ^\u001b[0m\n\u001b[1;31mSyntaxError\u001b[0m\u001b[1;31m:\u001b[0m invalid syntax\n"
     ]
    }
   ],
   "source": [
    "# Data removed for privacy reasons\n",
    "nlpData = pd.read_csv(, index_col = 'Unnamed: 0')\n"
   ]
  },
  {
   "cell_type": "code",
   "execution_count": null,
   "metadata": {},
   "outputs": [],
   "source": [
    "corpus = []\n",
    "stopwords = ['at', 'of', 'co', 'inc']\n",
    "\n",
    "for i in range(nlpData.shape[0]):\n",
    "    # Some of the occupations are coming in as floats since it is all #s\n",
    "    review = re.sub('[^a-zA-Z]', \" \", str(nlpData[\"Value\"][i]))\n",
    "    review = review.lower()\n",
    "    review = review.split()\n",
    "    review  = [word for word in review if word.lower() not in stopwords]\n",
    "    review = ' '.join(review)\n",
    "    corpus.append(review)"
   ]
  },
  {
   "cell_type": "code",
   "execution_count": null,
   "metadata": {},
   "outputs": [],
   "source": [
    "occupation_words = corpus\n",
    "for i in range(len(occupation_words)):\n",
    "    if type(occupation_words[i]) != str:\n",
    "        occupation_words[i] = str(occupation_words[i])\n",
    "        \n",
    "for i in range(len(occupation_words)):\n",
    "    if type(occupation_words[i]) == str:\n",
    "        occupation_words[i] = occupation_words[i].strip()"
   ]
  },
  {
   "cell_type": "code",
   "execution_count": null,
   "metadata": {},
   "outputs": [],
   "source": [
    "newData = pd.DataFrame(data = occupation_words, columns = [\"Job\"])\n",
    "newData[\"Acct Num\"] = nlpData[\"Account_Number\"]\n",
    "newData.index = newData[\"Acct Num\"]\n",
    "newData.drop(\"Acct Num\", inplace = True, axis = 1)"
   ]
  },
  {
   "cell_type": "code",
   "execution_count": null,
   "metadata": {},
   "outputs": [],
   "source": [
    "# Remove any variations of \"NA\" in the data\n",
    "newData = newData[(newData[\"Job\"] != \"\") & (newData[\"Job\"] != \"n a\") & (newData[\"Job\"] != \"na\") & (newData[\"Job\"] != \"none\")]"
   ]
  },
  {
   "cell_type": "code",
   "execution_count": null,
   "metadata": {},
   "outputs": [],
   "source": [
    "# Retired\n",
    "newData[\"Filtered\"] = np.where(newData[\"Job\"].str.contains(\"\\\\bret\\\\b|retired|\\\\bret \\\\b|retired | retired| ret | retired |\\\\bssi\\\\b|\\\\bssd\\\\b\"), \"retired\", '')\n",
    "newData.loc[(newData[\"Job\"].isin([\"ret\", \"retire\", \"ret \", \"retired \",\" retired\",\" ret \",\" retired \",\"ssi\", \"ssd\"]), \"Filtered\")] = \"retired\"\n",
    "\n",
    "# Medical\n",
    "newData.loc[(newData[\"Job\"].isin([\"rn\", \"lpn\", \"nurse\", \"therapist\",\"cna\",\"physician\",\"pharmacist\",\"dentist\",\"doctor\",\"pharmacy tech\",\"lab tech\",\"chiropractor\",\"medical asst\"]), \"Filtered\")] = \"medical\"\n",
    "\n",
    "# Retail\n",
    "newData.loc[(newData[\"Job\"].isin([\"convenience store\",\"sales\",\"cashier\",\"rtl cashier sales assoc\",\"customer service\",\"csr\",\"auto dealership\"]), \"Filtered\")] = \"retail\"\n",
    "\n",
    "# Skilled labor\n",
    "newData.loc[(newData[\"Job\"].isin([\"contractor\",\"mason\",\"builder\",\"manufacturing\",\"auto repair\",\"assembler\",\"lineman\",\"carpenter\",\"construction\",\"roofer\",\"mechanic\",\"super\",\"maint\",\"maintenance\",\"electrician\",\"machinist\",\"welder\",\"painter\",\"machine operator\",\"plumber\",\"technician\",\"foreman\"]), \"Filtered\")] = \"skilled labor\"\n",
    "\n",
    "# Agriculture\n",
    "newData.loc[(newData[\"Job\"].isin([\"landscaping\",\"landscaper\",\"farmer\",\"farming\"]), \"Filtered\")] = \"agriculture\"\n",
    "\n",
    "# Unskilled Labor\n",
    "newData.loc[(newData[\"Job\"].isin([\"laborer\",\"dishwasher\",\"warehouse\",\"packer\",\"labor\",\"factory\",\"stocker\",\"coal miner\",'steel worker',\"material handler\"]), \"Filtered\")] = \"unskilled labor\"\n",
    "\n",
    "# Student\n",
    "newData.loc[(newData[\"Job\"].isin(['student','summer intern','psu','pitt','cmu','carnegie mellon','temple','slippery rock','harvard','duquesne','carlow','chatham','point park','bucknell','penn state','ohio state','unc','duke','wake forest','wfu','nc state','north carolina','north carolina state','uncc','uncg','uncw','american university','virginia tech','york college','millersville','wcu','west chester university','bloomsburg','bloomsburg university','la salle','la roche','ecu','usc']), \"Filtered\")] = \"student\"\n",
    "\n",
    "# Food Service\n",
    "newData.loc[(newData[\"Job\"].isin(['cook','bartender','restaurant','waitress','server','chef cook','bartender waiter waitress','waiter','chef','baker','crew member','hostess']), \"Filtered\")] = \"food service\"\n",
    "\n",
    "# Prof Service\n",
    "newData.loc[(newData[\"Job\"].isin(['attorney','law firm','lawyer','paralegal','professional','prof technical','hr','human resources','architect','architect engineer','designer','consulting','consultant','real estate','realtor','analyst','marketing']), \"Filtered\")] = \"prof service\"\n",
    "\n",
    "# Education\n",
    "newData.loc[(newData[\"Job\"].isin(['teacher','teacher professor','professor','instructor','principal']), \"Filtered\")] = \"education\"\n",
    "\n",
    "# Management\n",
    "newData.loc[(newData[\"Job\"].isin(['management','mgr','manager','president','supervisor','office manager','gm','execu mgmt administrator','executive','director','ceo','administrator','admin','cfo','vp']), \"Filtered\")] = \"management\"\n",
    "\n",
    "# Homemaker\n",
    "newData.loc[(newData[\"Job\"].isin(['homemaker','housewife','home maker','house wife','home']), \"Filtered\")] = \"homemaker\"\n",
    "\n",
    "# Unemployed\n",
    "newData.loc[(newData[\"Job\"].isin(['unemployed','umemployed']), \"Filtered\")] = \"unemployed\"\n",
    "\n",
    "# Administrative Support\n",
    "newData.loc[(newData[\"Job\"].isin(['clerk','secretary','receptionist','admin asst','assistant','clerical']), \"Filtered\")] = \"administrative support\"\n",
    "\n",
    "# Entrepreneur\n",
    "newData.loc[(newData[\"Job\"].isin(['owner','owner operator','operator','owner self employed','self employed','selfemployed','self entrep cnst contr re','self']), \"Filtered\")] = \"entrepreneur\"\n",
    "\n",
    "# Disabled\n",
    "newData.loc[(newData[\"Job\"].isin(['incapacitated','disabled','disability']), \"Filtered\")] = \"disabled\"\n",
    "\n",
    "# Financial Services\n",
    "newData.loc[(newData[\"Job\"].isin(['teller','cpa','accountant','finicl invest plann analy','estate','trust','treasurer','bookkeeper','insurance agent','insurance','banker','controller','accounting','financial advisor']), \"Filtered\")] = \"financial services\"\n",
    "\n",
    "# Religion\n",
    "newData.loc[(newData[\"Job\"].isin(['church','pastor','minister','priest']), \"Filtered\")] = \"religion\"\n",
    "\n",
    "# Transportation\n",
    "newData.loc[(newData[\"Job\"].isin(['driver','truck driver','bus driver','courier trk dr msgr mail','trucking','delivery','pilot','shipping','carrier','courier']), \"Filtered\")] = \"transportation\"\n",
    "\n",
    "# Cleaning\n",
    "newData.loc[(newData[\"Job\"].isin(['custodian','custodian maid janitor','housekeeping','housekeeper','cleaner','janitor']), \"Filtered\")] = \"cleaning\"\n",
    "\n",
    "# Law Enforcement\n",
    "newData.loc[(newData[\"Job\"].isin(['security','police officer','dispatcher','officer','corrections officer','state local law enforceme']), \"Filtered\")] = \"law enforcement\"\n",
    "\n",
    "# Human Services\n",
    "newData.loc[(newData[\"Job\"].isin(['care giver','caregiver','counselor','social worker','social dom youth wkr coun','case worker','caseworker','caretaker','child care','social organization']), \"Filtered\")] = \"human services\"\n",
    "\n",
    "# Never Worked\n",
    "newData.loc[(newData[\"Job\"].isin([\"never worked\",'neverworked','never work']), \"Filtered\")] = \"never worked\"\n",
    "\n",
    "# Technology\n",
    "newData.loc[(newData[\"Job\"].isin(['engineer', 'tech','it comp eng progr pm web','service tech','it','software engineer','programmer']), \"Filtered\")] = \"technology\"\n",
    "\n",
    "# Beauty\n",
    "newData.loc[(newData[\"Job\"].isin(['hair stylist','stylist','beautician','hairdresser','hair dresser','barber']), \"Filtered\")] = \"beauty\"\n",
    "\n",
    "# Emergency Services\n",
    "newData.loc[(newData[\"Job\"].isin(['emt','dispatcher','firefighter','paramedic']), \"Filtered\")] = \"emergency services\"\n",
    "\n",
    "# Minors\n",
    "newData.loc[(newData[\"Job\"].isin(['minor', 'child']), \"Filtered\")] = \"minor\"\n",
    "\n",
    "# Deceased\n",
    "newData.loc[(newData[\"Job\"].isin(['deceased']), \"Filtered\")] = \"deceased\"\n",
    "\n",
    "# Beneficiary\n",
    "newData.loc[(newData[\"Job\"].isin(['beneficiary']), \"Filtered\")] = \"beneficiary\"\n",
    "\n",
    "# Military\n",
    "newData.loc[(newData[\"Job\"].isin(['military', 'army', 'navy', 'air force', 'airforce', 'marines', 'marine corps', 'space force', 'marine']), \"Filtered\")] = \"military\""
   ]
  },
  {
   "cell_type": "code",
   "execution_count": null,
   "metadata": {},
   "outputs": [],
   "source": [
    "label_data = newData[newData[\"Filtered\"] != '']\n",
    "label_data.loc[(label_data[\"Job\"].isin(['admin']), \"Job\")] = \"administrator\"\n",
    "\n",
    "unlabel_data = newData[newData[\"Filtered\"] == '']\n",
    "unlabel_data.loc[(unlabel_data[\"Job\"].isin(['admin']), \"Job\")] = \"administrator\"\n",
    "unlabel_data"
   ]
  },
  {
   "cell_type": "code",
   "execution_count": null,
   "metadata": {},
   "outputs": [],
   "source": [
    "cv = CountVectorizer(max_features = 1000, ngram_range = (1,3))\n",
    "\n",
    "X = cv.fit_transform(label_data[\"Job\"]).toarray()\n",
    "y = label_data[\"Filtered\"]"
   ]
  },
  {
   "cell_type": "code",
   "execution_count": null,
   "metadata": {},
   "outputs": [],
   "source": [
    "X_train, X_test, y_train, y_test = train_test_split(X, y, test_size = 0.2, random_state = 1)"
   ]
  },
  {
   "cell_type": "code",
   "execution_count": null,
   "metadata": {},
   "outputs": [],
   "source": [
    "y_test.values"
   ]
  },
  {
   "cell_type": "code",
   "execution_count": null,
   "metadata": {},
   "outputs": [],
   "source": [
    "classifier = GaussianNB()\n",
    "classifier.fit(X_train, y_train)"
   ]
  },
  {
   "cell_type": "code",
   "execution_count": null,
   "metadata": {},
   "outputs": [],
   "source": [
    "y_pred_NB = classifier.predict(X_test)\n",
    "y_pred_NB"
   ]
  },
  {
   "cell_type": "code",
   "execution_count": null,
   "metadata": {},
   "outputs": [],
   "source": [
    "cm_NB = confusion_matrix(y_test, y_pred_NB) \n",
    "cm_NB"
   ]
  },
  {
   "cell_type": "code",
   "execution_count": null,
   "metadata": {},
   "outputs": [],
   "source": [
    "metrics.accuracy_score(y_test, y_pred_NB)"
   ]
  },
  {
   "cell_type": "code",
   "execution_count": null,
   "metadata": {},
   "outputs": [],
   "source": [
    "metrics.precision_score(y_test, y_pred_NB, average = \"weighted\")"
   ]
  },
  {
   "cell_type": "code",
   "execution_count": null,
   "metadata": {},
   "outputs": [],
   "source": [
    "test_results = pd.DataFrame(data = y_test.values, columns = [\"Actuals\"], index = y_test.index)\n",
    "test_results[\"Preds\"] = y_pred_NB"
   ]
  },
  {
   "cell_type": "code",
   "execution_count": null,
   "metadata": {},
   "outputs": [],
   "source": [
    "incorrect_preds = test_results[test_results[\"Actuals\"] != test_results[\"Preds\"]]\n",
    "incorrect_preds\n",
    "pd.set_option(\"display.max_rows\", None)\n",
    "pd.merge(incorrect_preds, newData, how = \"inner\", left_index = True, right_index = True).shape"
   ]
  },
  {
   "cell_type": "code",
   "execution_count": null,
   "metadata": {},
   "outputs": [],
   "source": [
    "unlabel_data[\"Job\"].head(10000)"
   ]
  },
  {
   "cell_type": "code",
   "execution_count": null,
   "metadata": {},
   "outputs": [],
   "source": [
    "X_unlabel = cv.fit_transform(unlabel_data[\"Job\"].head(10000)).toarray()\n",
    "\n",
    "y_pred_unlabel_NB = classifier.predict(X_unlabel)\n",
    "y_pred_unlabel_NB"
   ]
  },
  {
   "cell_type": "code",
   "execution_count": null,
   "metadata": {},
   "outputs": [],
   "source": [
    "unlabel_data.head(10000).index"
   ]
  },
  {
   "cell_type": "code",
   "execution_count": null,
   "metadata": {},
   "outputs": [],
   "source": [
    "test_results = pd.DataFrame(data = y_pred_unlabel_NB, columns = [\"Preds\"], index = unlabel_data.head(10000).index)\n",
    "pd.merge(test_results, newData, how = \"inner\", left_index = True, right_index = True)"
   ]
  },
  {
   "cell_type": "code",
   "execution_count": null,
   "metadata": {},
   "outputs": [],
   "source": []
  }
 ],
 "metadata": {
  "kernelspec": {
   "display_name": "Python [conda env:fnb] *",
   "language": "python",
   "name": "conda-env-fnb-py"
  },
  "language_info": {
   "codemirror_mode": {
    "name": "ipython",
    "version": 3
   },
   "file_extension": ".py",
   "mimetype": "text/x-python",
   "name": "python",
   "nbconvert_exporter": "python",
   "pygments_lexer": "ipython3",
   "version": "3.7.9"
  }
 },
 "nbformat": 4,
 "nbformat_minor": 4
}
